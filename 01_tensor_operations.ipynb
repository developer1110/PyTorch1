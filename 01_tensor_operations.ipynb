{
  "nbformat": 4,
  "nbformat_minor": 0,
  "metadata": {
    "kernelspec": {
      "display_name": "Python 3",
      "language": "python",
      "name": "python3"
    },
    "language_info": {
      "codemirror_mode": {
        "name": "ipython",
        "version": 3
      },
      "file_extension": ".py",
      "mimetype": "text/x-python",
      "name": "python",
      "nbconvert_exporter": "python",
      "pygments_lexer": "ipython3",
      "version": "3.7.6"
    },
    "colab": {
      "name": "Copy of 01-tensor-operations.ipynb",
      "provenance": [],
      "collapsed_sections": []
    }
  },
  "cells": [
    {
      "cell_type": "markdown",
      "metadata": {
        "id": "khUfTELDXM88",
        "colab_type": "text"
      },
      "source": [
        "# All About Basic Tensor Operations in PyTorch\n",
        "\n",
        "### Tensor is a multi-dimensional matrix containing a single data type\n",
        "\n",
        "Here are a few selected PyTorch tensor methods  \n",
        "- new_full: Used to create a tensor with specified fill value\n",
        "- abs: Each element of the tensor is converted to an absoulute value\n",
        "- add: Adds either a scalar or a tensor to a tensor\n",
        "- matmul: multiplication of tensors\n",
        "- eq: Checks two tensors for equality based on each element"
      ]
    },
    {
      "cell_type": "code",
      "metadata": {
        "id": "tuY_frsNXM89",
        "colab_type": "code",
        "colab": {}
      },
      "source": [
        "# Import torch and other required modules\n",
        "import torch"
      ],
      "execution_count": 0,
      "outputs": []
    },
    {
      "cell_type": "markdown",
      "metadata": {
        "id": "roetweCJXM9D",
        "colab_type": "text"
      },
      "source": [
        "## Function 1 - torch.new_full (size, fill_value, dtype=None, device=None, requires_grad=False)) --> Tensor\n",
        "\n",
        "This method is used to return a tensor with specified fill value"
      ]
    },
    {
      "cell_type": "code",
      "metadata": {
        "id": "jGLWvXwwXM9D",
        "colab_type": "code",
        "outputId": "147f8ead-7df6-44bf-efb2-a92348f80326",
        "colab": {
          "base_uri": "https://localhost:8080/",
          "height": 52
        }
      },
      "source": [
        "#Example 1.1\n",
        "tensor = torch.tensor([[1,2], [3,4]])\n",
        "tensor.new_full((2,2), 0)"
      ],
      "execution_count": 15,
      "outputs": [
        {
          "output_type": "execute_result",
          "data": {
            "text/plain": [
              "tensor([[0, 0],\n",
              "        [0, 0]])"
            ]
          },
          "metadata": {
            "tags": []
          },
          "execution_count": 15
        }
      ]
    },
    {
      "cell_type": "markdown",
      "metadata": {
        "id": "iS-HIAqdXM9H",
        "colab_type": "text"
      },
      "source": [
        "In the above example tensor is filled with zeros."
      ]
    },
    {
      "cell_type": "code",
      "metadata": {
        "id": "MagRoPSdXM9I",
        "colab_type": "code",
        "colab": {
          "base_uri": "https://localhost:8080/",
          "height": 105
        },
        "outputId": "a860fed8-47f0-4037-ebb0-8a8ebbcf0b0b"
      },
      "source": [
        "#Example 1.2\n",
        "tensor = torch.ones(())\n",
        "tensor.new_full((2,2,2), True, dtype=bool,device=None,requires_grad=False)"
      ],
      "execution_count": 21,
      "outputs": [
        {
          "output_type": "execute_result",
          "data": {
            "text/plain": [
              "tensor([[[True, True],\n",
              "         [True, True]],\n",
              "\n",
              "        [[True, True],\n",
              "         [True, True]]])"
            ]
          },
          "metadata": {
            "tags": []
          },
          "execution_count": 21
        }
      ]
    },
    {
      "cell_type": "markdown",
      "metadata": {
        "id": "WWHgHPnFXM9L",
        "colab_type": "text"
      },
      "source": [
        "Here is an example where an empty tensor is initiated to (m,n,o) dimensions and with value True. Note that if you do not specify dtype the value is initiated as float value 1. even though you specified True."
      ]
    },
    {
      "cell_type": "code",
      "metadata": {
        "id": "3p1DFLxJXM9M",
        "colab_type": "code",
        "outputId": "c9d18814-7377-40de-ba4e-7c2a3f56a0a2",
        "colab": {
          "base_uri": "https://localhost:8080/",
          "height": 52
        }
      },
      "source": [
        "# Example 1.3 - breaking (to illustrate when it breaks)\n",
        "tensor = torch.tensor([[1,2], [3,4]], dtype=int)\n",
        "tensor.new_full((2,2),1.5)\n",
        "tensor\n",
        "# tensor.type() \n",
        "# Type still shows as LongTensor"
      ],
      "execution_count": 38,
      "outputs": [
        {
          "output_type": "execute_result",
          "data": {
            "text/plain": [
              "tensor([[1, 2],\n",
              "        [3, 4]])"
            ]
          },
          "metadata": {
            "tags": []
          },
          "execution_count": 38
        }
      ]
    },
    {
      "cell_type": "markdown",
      "metadata": {
        "id": "KSgkV9F8XM9O",
        "colab_type": "text"
      },
      "source": [
        "Note that in the above example we were not able to use fill value of float for a tensor which was declared as int."
      ]
    },
    {
      "cell_type": "markdown",
      "metadata": {
        "id": "geFDIBM_XM9P",
        "colab_type": "text"
      },
      "source": [
        "new_full is a useful function alongwith other family of new_ functions including new_tensor and new_empty. These functions are used to create tensors with similar dtype as original but possibly different dimensions."
      ]
    },
    {
      "cell_type": "markdown",
      "metadata": {
        "id": "HMkpDbruXM9P",
        "colab_type": "text"
      },
      "source": [
        "## Function 2 - abs () --> Tensor\n",
        "\n",
        "This function is used to return a tensor with absolute value element by element"
      ]
    },
    {
      "cell_type": "code",
      "metadata": {
        "id": "9qPHy4N3XM9Q",
        "colab_type": "code",
        "colab": {
          "base_uri": "https://localhost:8080/",
          "height": 52
        },
        "outputId": "0b2836a5-b703-4e71-a709-950995d020ca"
      },
      "source": [
        "# Example 2.1\n",
        "tensor= torch.tensor([[-1,-2],[3,0]])\n",
        "tensor.abs()"
      ],
      "execution_count": 42,
      "outputs": [
        {
          "output_type": "execute_result",
          "data": {
            "text/plain": [
              "tensor([[1, 2],\n",
              "        [3, 0]])"
            ]
          },
          "metadata": {
            "tags": []
          },
          "execution_count": 42
        }
      ]
    },
    {
      "cell_type": "markdown",
      "metadata": {
        "id": "PEBqrHpRXM9S",
        "colab_type": "text"
      },
      "source": [
        "In the above example negative values are converted to positive and positive (and 0) are left intact."
      ]
    },
    {
      "cell_type": "code",
      "metadata": {
        "id": "6tLZq4I7XM9T",
        "colab_type": "code",
        "colab": {
          "base_uri": "https://localhost:8080/",
          "height": 52
        },
        "outputId": "191c81b3-ba0e-42f6-97e0-93ebd93cf7f1"
      },
      "source": [
        "# Example 2.2\n",
        "tensor = torch.tensor([[1.5,2.5],[-79.1,0]])\n",
        "tensor.abs()"
      ],
      "execution_count": 44,
      "outputs": [
        {
          "output_type": "execute_result",
          "data": {
            "text/plain": [
              "tensor([[ 1.5000,  2.5000],\n",
              "        [79.1000,  0.0000]])"
            ]
          },
          "metadata": {
            "tags": []
          },
          "execution_count": 44
        }
      ]
    },
    {
      "cell_type": "markdown",
      "metadata": {
        "id": "c4hF_t82XM9V",
        "colab_type": "text"
      },
      "source": [
        "As expected this works for float as well."
      ]
    },
    {
      "cell_type": "code",
      "metadata": {
        "id": "g0gyXxzsXM9V",
        "colab_type": "code",
        "colab": {
          "base_uri": "https://localhost:8080/",
          "height": 203
        },
        "outputId": "65ce36ad-e191-48bd-c9f6-2541f1b36133"
      },
      "source": [
        "# Example 2.3 Not working\n",
        "tensor = torch.tensor([[False,False],[True,True]])\n",
        "tensor.abs()"
      ],
      "execution_count": 45,
      "outputs": [
        {
          "output_type": "error",
          "ename": "RuntimeError",
          "evalue": "ignored",
          "traceback": [
            "\u001b[0;31m---------------------------------------------------------------------------\u001b[0m",
            "\u001b[0;31mRuntimeError\u001b[0m                              Traceback (most recent call last)",
            "\u001b[0;32m<ipython-input-45-a42f3305e87a>\u001b[0m in \u001b[0;36m<module>\u001b[0;34m()\u001b[0m\n\u001b[1;32m      1\u001b[0m \u001b[0;31m# Example 2.3\u001b[0m\u001b[0;34m\u001b[0m\u001b[0;34m\u001b[0m\u001b[0;34m\u001b[0m\u001b[0m\n\u001b[1;32m      2\u001b[0m \u001b[0mtensor\u001b[0m \u001b[0;34m=\u001b[0m \u001b[0mtorch\u001b[0m\u001b[0;34m.\u001b[0m\u001b[0mtensor\u001b[0m\u001b[0;34m(\u001b[0m\u001b[0;34m[\u001b[0m\u001b[0;34m[\u001b[0m\u001b[0;32mFalse\u001b[0m\u001b[0;34m,\u001b[0m\u001b[0;32mFalse\u001b[0m\u001b[0;34m]\u001b[0m\u001b[0;34m,\u001b[0m\u001b[0;34m[\u001b[0m\u001b[0;32mTrue\u001b[0m\u001b[0;34m,\u001b[0m\u001b[0;32mTrue\u001b[0m\u001b[0;34m]\u001b[0m\u001b[0;34m]\u001b[0m\u001b[0;34m)\u001b[0m\u001b[0;34m\u001b[0m\u001b[0;34m\u001b[0m\u001b[0m\n\u001b[0;32m----> 3\u001b[0;31m \u001b[0mtensor\u001b[0m\u001b[0;34m.\u001b[0m\u001b[0mabs\u001b[0m\u001b[0;34m(\u001b[0m\u001b[0;34m)\u001b[0m\u001b[0;34m\u001b[0m\u001b[0;34m\u001b[0m\u001b[0m\n\u001b[0m",
            "\u001b[0;31mRuntimeError\u001b[0m: \"abs_cpu\" not implemented for 'Bool'"
          ]
        }
      ]
    },
    {
      "cell_type": "markdown",
      "metadata": {
        "id": "UapN-t3WXM9X",
        "colab_type": "text"
      },
      "source": [
        "Does not work for float"
      ]
    },
    {
      "cell_type": "markdown",
      "metadata": {
        "id": "Bkun7JcSXM9Y",
        "colab_type": "text"
      },
      "source": [
        "As in most programming languages, abs() is a handy function implemented for tensor in PyTorch."
      ]
    },
    {
      "cell_type": "markdown",
      "metadata": {
        "id": "uWKvkAR-XM9Y",
        "colab_type": "text"
      },
      "source": [
        "## Function 3 - add(input, other, *, alpha=1, out=None) --> Tensor\n",
        "\n",
        "This function is used to add two tensors or add a scalar to a tensor."
      ]
    },
    {
      "cell_type": "code",
      "metadata": {
        "id": "Ct012lUjXM9Z",
        "colab_type": "code",
        "colab": {
          "base_uri": "https://localhost:8080/",
          "height": 35
        },
        "outputId": "b7f50455-c554-4d29-f971-e79669f673bc"
      },
      "source": [
        "# Example 3.1\n",
        "t1 = torch.tensor([.12,.34,.56,.78])\n",
        "torch.add(t1,1)\n",
        "#t1.add(1)"
      ],
      "execution_count": 47,
      "outputs": [
        {
          "output_type": "execute_result",
          "data": {
            "text/plain": [
              "tensor([1.1200, 1.3400, 1.5600, 1.7800])"
            ]
          },
          "metadata": {
            "tags": []
          },
          "execution_count": 47
        }
      ]
    },
    {
      "cell_type": "markdown",
      "metadata": {
        "id": "S463rzUnXM9d",
        "colab_type": "text"
      },
      "source": [
        "In the above example we added scalar value of 1 to tensor t1"
      ]
    },
    {
      "cell_type": "code",
      "metadata": {
        "id": "BcsbDim4XM9e",
        "colab_type": "code",
        "colab": {
          "base_uri": "https://localhost:8080/",
          "height": 87
        },
        "outputId": "904634a2-0736-494f-e28b-9ced10e35fbf"
      },
      "source": [
        "# Example 3.2\n",
        "t1 = torch.tensor([1,2,3,4])\n",
        "t2 = torch.tensor([[1],[2],[3],[4]])\n",
        "torch.add(t1,t2, alpha=-1)"
      ],
      "execution_count": 52,
      "outputs": [
        {
          "output_type": "execute_result",
          "data": {
            "text/plain": [
              "tensor([[ 0,  1,  2,  3],\n",
              "        [-1,  0,  1,  2],\n",
              "        [-2, -1,  0,  1],\n",
              "        [-3, -2, -1,  0]])"
            ]
          },
          "metadata": {
            "tags": []
          },
          "execution_count": 52
        }
      ]
    },
    {
      "cell_type": "markdown",
      "metadata": {
        "id": "vNtYMd4qXM9g",
        "colab_type": "text"
      },
      "source": [
        "This is how it works:\n",
        "\n",
        "output = input (t1) + multiplier * other_tensor (t2)  \n",
        "output[0][0] = t1[0] + (-1) * t2[0][0]  \n",
        "output[0][1] = t1[1] (value 2) + (-1) * t2[1][0] (value 2)  \n",
        "\n"
      ]
    },
    {
      "cell_type": "code",
      "metadata": {
        "id": "IBHKRbdRXM9g",
        "colab_type": "code",
        "colab": {
          "base_uri": "https://localhost:8080/",
          "height": 203
        },
        "outputId": "05194ed5-bde8-4cdb-c702-f76df282ca95"
      },
      "source": [
        "# Example 3.3 - breaking (to illustrate when it breaks)\n",
        "t1 = torch.ones((5,2))\n",
        "t2 = torch.ones((1,2,2))\n",
        "torch.add(t1,t2)"
      ],
      "execution_count": 62,
      "outputs": [
        {
          "output_type": "error",
          "ename": "RuntimeError",
          "evalue": "ignored",
          "traceback": [
            "\u001b[0;31m---------------------------------------------------------------------------\u001b[0m",
            "\u001b[0;31mRuntimeError\u001b[0m                              Traceback (most recent call last)",
            "\u001b[0;32m<ipython-input-62-af96901140ee>\u001b[0m in \u001b[0;36m<module>\u001b[0;34m()\u001b[0m\n\u001b[1;32m      2\u001b[0m \u001b[0mt1\u001b[0m \u001b[0;34m=\u001b[0m \u001b[0mtorch\u001b[0m\u001b[0;34m.\u001b[0m\u001b[0mones\u001b[0m\u001b[0;34m(\u001b[0m\u001b[0;34m(\u001b[0m\u001b[0;36m5\u001b[0m\u001b[0;34m,\u001b[0m\u001b[0;36m2\u001b[0m\u001b[0;34m)\u001b[0m\u001b[0;34m)\u001b[0m\u001b[0;34m\u001b[0m\u001b[0;34m\u001b[0m\u001b[0m\n\u001b[1;32m      3\u001b[0m \u001b[0mt2\u001b[0m \u001b[0;34m=\u001b[0m \u001b[0mtorch\u001b[0m\u001b[0;34m.\u001b[0m\u001b[0mones\u001b[0m\u001b[0;34m(\u001b[0m\u001b[0;34m(\u001b[0m\u001b[0;36m1\u001b[0m\u001b[0;34m,\u001b[0m\u001b[0;36m2\u001b[0m\u001b[0;34m,\u001b[0m\u001b[0;36m2\u001b[0m\u001b[0;34m)\u001b[0m\u001b[0;34m)\u001b[0m\u001b[0;34m\u001b[0m\u001b[0;34m\u001b[0m\u001b[0m\n\u001b[0;32m----> 4\u001b[0;31m \u001b[0mtorch\u001b[0m\u001b[0;34m.\u001b[0m\u001b[0madd\u001b[0m\u001b[0;34m(\u001b[0m\u001b[0mt1\u001b[0m\u001b[0;34m,\u001b[0m\u001b[0mt2\u001b[0m\u001b[0;34m)\u001b[0m\u001b[0;34m\u001b[0m\u001b[0;34m\u001b[0m\u001b[0m\n\u001b[0m",
            "\u001b[0;31mRuntimeError\u001b[0m: The size of tensor a (5) must match the size of tensor b (2) at non-singleton dimension 1"
          ]
        }
      ]
    },
    {
      "cell_type": "markdown",
      "metadata": {
        "id": "2bUNywAEXM9i",
        "colab_type": "text"
      },
      "source": [
        "One of the most important consideration is that the tensors you are trying to add should be **broadcastable**. \n",
        "\n",
        "Here is some explanation on this\n",
        "https://www.pythonlikeyoumeanit.com/Module3_IntroducingNumpy/Broadcasting.html\n"
      ]
    },
    {
      "cell_type": "markdown",
      "metadata": {
        "id": "VhVIoQJ_XM9j",
        "colab_type": "text"
      },
      "source": [
        "Closing comments about when to use this function"
      ]
    },
    {
      "cell_type": "markdown",
      "metadata": {
        "id": "KdRjsw9mXM9j",
        "colab_type": "text"
      },
      "source": [
        "## Function 4 - matmul( tensor 1, tensor2, output_tensor optional) --> Tensor\n",
        "\n",
        "This function performs multiplication of two tensors. The behaviour depends on the dimensionality of each tensor."
      ]
    },
    {
      "cell_type": "code",
      "metadata": {
        "id": "mkqbqUItXM9k",
        "colab_type": "code",
        "colab": {
          "base_uri": "https://localhost:8080/",
          "height": 35
        },
        "outputId": "d69d8b4f-9b88-4ea9-a6bc-997ca084787f"
      },
      "source": [
        "# Example 1 - working\n",
        "t1 = torch.tensor([2,3])\n",
        "t2 = torch.tensor([5,4])\n",
        "t3 = torch.matmul(t1,t2)\n",
        "t3"
      ],
      "execution_count": 68,
      "outputs": [
        {
          "output_type": "execute_result",
          "data": {
            "text/plain": [
              "tensor(22)"
            ]
          },
          "metadata": {
            "tags": []
          },
          "execution_count": 68
        }
      ]
    },
    {
      "cell_type": "markdown",
      "metadata": {
        "id": "iw58Pt1OXM9m",
        "colab_type": "text"
      },
      "source": [
        "2 * 5 + 3 * 4"
      ]
    },
    {
      "cell_type": "code",
      "metadata": {
        "id": "OCAPX2NfXM9m",
        "colab_type": "code",
        "colab": {
          "base_uri": "https://localhost:8080/",
          "height": 35
        },
        "outputId": "d14a4c14-e2bf-49bc-9311-aed00a254c98"
      },
      "source": [
        "# Example 2 - working\n",
        "tensor1 = torch.tensor([[1,2,3,4],[5,6,7,8]])\n",
        "tensor2 = torch.tensor([1,2,3,4])\n",
        "\n",
        "torch.matmul(tensor1, tensor2)"
      ],
      "execution_count": 76,
      "outputs": [
        {
          "output_type": "execute_result",
          "data": {
            "text/plain": [
              "tensor([30, 70])"
            ]
          },
          "metadata": {
            "tags": []
          },
          "execution_count": 76
        }
      ]
    },
    {
      "cell_type": "markdown",
      "metadata": {
        "id": "RhVBYcsIXM9o",
        "colab_type": "text"
      },
      "source": [
        "Two tensors of dimensions 2 * 4 and 1 * 4 are multiplied using matmul. The result is 1 * 2 matrix.\n",
        "First element : 1*1 + 2*2 + 3*3 + 4*4\n",
        "Second Element: 5*1 + 6*2 + 7*3 + 8*4"
      ]
    },
    {
      "cell_type": "code",
      "metadata": {
        "id": "WrSJHQJDXM9o",
        "colab_type": "code",
        "colab": {
          "base_uri": "https://localhost:8080/",
          "height": 203
        },
        "outputId": "bd9bf74d-4690-408a-9841-26579bb6dd52"
      },
      "source": [
        "# Example 3 - breaking (to illustrate when it breaks)\n",
        "tensor1 = torch.tensor([[1,2,3,4],[5,6,7,8]])\n",
        "tensor2 = torch.tensor([1,2,3])\n",
        "torch.matmul(tensor1, tensor2)"
      ],
      "execution_count": 83,
      "outputs": [
        {
          "output_type": "error",
          "ename": "RuntimeError",
          "evalue": "ignored",
          "traceback": [
            "\u001b[0;31m---------------------------------------------------------------------------\u001b[0m",
            "\u001b[0;31mRuntimeError\u001b[0m                              Traceback (most recent call last)",
            "\u001b[0;32m<ipython-input-83-6405a1d1c85a>\u001b[0m in \u001b[0;36m<module>\u001b[0;34m()\u001b[0m\n\u001b[1;32m      2\u001b[0m \u001b[0mtensor1\u001b[0m \u001b[0;34m=\u001b[0m \u001b[0mtorch\u001b[0m\u001b[0;34m.\u001b[0m\u001b[0mtensor\u001b[0m\u001b[0;34m(\u001b[0m\u001b[0;34m[\u001b[0m\u001b[0;34m[\u001b[0m\u001b[0;36m1\u001b[0m\u001b[0;34m,\u001b[0m\u001b[0;36m2\u001b[0m\u001b[0;34m,\u001b[0m\u001b[0;36m3\u001b[0m\u001b[0;34m,\u001b[0m\u001b[0;36m4\u001b[0m\u001b[0;34m]\u001b[0m\u001b[0;34m,\u001b[0m\u001b[0;34m[\u001b[0m\u001b[0;36m5\u001b[0m\u001b[0;34m,\u001b[0m\u001b[0;36m6\u001b[0m\u001b[0;34m,\u001b[0m\u001b[0;36m7\u001b[0m\u001b[0;34m,\u001b[0m\u001b[0;36m8\u001b[0m\u001b[0;34m]\u001b[0m\u001b[0;34m]\u001b[0m\u001b[0;34m)\u001b[0m\u001b[0;34m\u001b[0m\u001b[0;34m\u001b[0m\u001b[0m\n\u001b[1;32m      3\u001b[0m \u001b[0mtensor2\u001b[0m \u001b[0;34m=\u001b[0m \u001b[0mtorch\u001b[0m\u001b[0;34m.\u001b[0m\u001b[0mtensor\u001b[0m\u001b[0;34m(\u001b[0m\u001b[0;34m[\u001b[0m\u001b[0;36m1\u001b[0m\u001b[0;34m,\u001b[0m\u001b[0;36m2\u001b[0m\u001b[0;34m,\u001b[0m\u001b[0;36m3\u001b[0m\u001b[0;34m]\u001b[0m\u001b[0;34m)\u001b[0m\u001b[0;34m\u001b[0m\u001b[0;34m\u001b[0m\u001b[0m\n\u001b[0;32m----> 4\u001b[0;31m \u001b[0mtorch\u001b[0m\u001b[0;34m.\u001b[0m\u001b[0mmatmul\u001b[0m\u001b[0;34m(\u001b[0m\u001b[0mtensor1\u001b[0m\u001b[0;34m,\u001b[0m \u001b[0mtensor2\u001b[0m\u001b[0;34m)\u001b[0m\u001b[0;34m\u001b[0m\u001b[0;34m\u001b[0m\u001b[0m\n\u001b[0m",
            "\u001b[0;31mRuntimeError\u001b[0m: size mismatch, [2 x 4], [3] at /pytorch/aten/src/TH/generic/THTensorMath.cpp:193"
          ]
        }
      ]
    },
    {
      "cell_type": "markdown",
      "metadata": {
        "id": "essVtygSXM9r",
        "colab_type": "text"
      },
      "source": [
        "The above example does not work because there is a mismatch in dimensions. At least one dimension needs to match. \n",
        "\n",
        "The behavior is well explained on Torch documentation as below:\n",
        "\n",
        "If both tensors are 1-dimensional, the dot product (scalar) is returned.\n",
        "\n",
        "If both arguments are 2-dimensional, the matrix-matrix product is returned.\n",
        "\n",
        "If the first argument is 1-dimensional and the second argument is 2-dimensional, a 1 is prepended to its dimension for the purpose of the matrix multiply. After the matrix multiply, the prepended dimension is removed.\n",
        "\n",
        "If the first argument is 2-dimensional and the second argument is 1-dimensional, the matrix-vector product is returned.\n",
        "\n",
        "If both arguments are at least 1-dimensional and at least one argument is N-dimensional (where N > 2), then a batched matrix multiply is returned. If the first argument is 1-dimensional, a 1 is prepended to its dimension for the purpose of the batched matrix multiply and removed after. If the second argument is 1-dimensional, a 1 is appended to its dimension for the purpose of the batched matrix multiple and removed after. The non-matrix (i.e. batch) dimensions are broadcasted (and thus must be broadcastable). For example, if input is a (j \\times 1 \\times n \\times m)(j×1×n×m) tensor and other is a (k \\times m \\times p)(k×m×p) tensor, out will be an (j \\times k \\times n \\times p)(j×k×n×p) tensor."
      ]
    },
    {
      "cell_type": "markdown",
      "metadata": {
        "id": "vRqrZ6ibXM9s",
        "colab_type": "text"
      },
      "source": [
        "This is a utility function which I feel will be widely used in many applications. However, it's important to be cognizant of the dimensionality of each tensor."
      ]
    },
    {
      "cell_type": "markdown",
      "metadata": {
        "id": "x1BDOEvdXM9t",
        "colab_type": "text"
      },
      "source": [
        "## Function 5 - eq(t1,t2 or value, output optional) --> boolean Tensor\n",
        "\n",
        "This function performs element by element comparison and returns a boolean tensor indicating results of the comparison."
      ]
    },
    {
      "cell_type": "code",
      "metadata": {
        "id": "6sgl-ocLXM9t",
        "colab_type": "code",
        "colab": {
          "base_uri": "https://localhost:8080/",
          "height": 35
        },
        "outputId": "b62c57bd-5391-46db-bc2e-add013d46d96"
      },
      "source": [
        "# Example 1 - working\n",
        "t1 = torch.tensor([1,2,3])\n",
        "t2 = torch.tensor([1,2,3])\n",
        "torch.eq(t1,t2)"
      ],
      "execution_count": 84,
      "outputs": [
        {
          "output_type": "execute_result",
          "data": {
            "text/plain": [
              "tensor([True, True, True])"
            ]
          },
          "metadata": {
            "tags": []
          },
          "execution_count": 84
        }
      ]
    },
    {
      "cell_type": "markdown",
      "metadata": {
        "id": "n5IUC0rYXM9w",
        "colab_type": "text"
      },
      "source": [
        "Compares each element from the first tensor to corresponding tensor from second element and constructs a boolean return matrix."
      ]
    },
    {
      "cell_type": "code",
      "metadata": {
        "id": "xUqDfHmKXM9w",
        "colab_type": "code",
        "colab": {
          "base_uri": "https://localhost:8080/",
          "height": 35
        },
        "outputId": "61fd4e51-bf34-4327-bcd2-b240cc851a46"
      },
      "source": [
        "# Example 2 - working\n",
        "t1 = torch.tensor([1,2,3])\n",
        "torch.eq(t1,2)"
      ],
      "execution_count": 85,
      "outputs": [
        {
          "output_type": "execute_result",
          "data": {
            "text/plain": [
              "tensor([False,  True, False])"
            ]
          },
          "metadata": {
            "tags": []
          },
          "execution_count": 85
        }
      ]
    },
    {
      "cell_type": "markdown",
      "metadata": {
        "id": "uT4ZQ_8lXM9y",
        "colab_type": "text"
      },
      "source": [
        "Compares each element from the first tensor to the value of the second parameter and constructs a boolean return matrix."
      ]
    },
    {
      "cell_type": "code",
      "metadata": {
        "id": "9kI4p9wIXM9y",
        "colab_type": "code",
        "colab": {
          "base_uri": "https://localhost:8080/",
          "height": 203
        },
        "outputId": "4cd437e7-407e-42fe-c348-31439b56e860"
      },
      "source": [
        "# Example 3 - breaking (to illustrate when it breaks)\n",
        "t1 = torch.tensor([1,2,3])\n",
        "t2 = torch.tensor([1,2,3,4])\n",
        "torch.eq(t1,t2)"
      ],
      "execution_count": 86,
      "outputs": [
        {
          "output_type": "error",
          "ename": "RuntimeError",
          "evalue": "ignored",
          "traceback": [
            "\u001b[0;31m---------------------------------------------------------------------------\u001b[0m",
            "\u001b[0;31mRuntimeError\u001b[0m                              Traceback (most recent call last)",
            "\u001b[0;32m<ipython-input-86-893906f32800>\u001b[0m in \u001b[0;36m<module>\u001b[0;34m()\u001b[0m\n\u001b[1;32m      2\u001b[0m \u001b[0mt1\u001b[0m \u001b[0;34m=\u001b[0m \u001b[0mtorch\u001b[0m\u001b[0;34m.\u001b[0m\u001b[0mtensor\u001b[0m\u001b[0;34m(\u001b[0m\u001b[0;34m[\u001b[0m\u001b[0;36m1\u001b[0m\u001b[0;34m,\u001b[0m\u001b[0;36m2\u001b[0m\u001b[0;34m,\u001b[0m\u001b[0;36m3\u001b[0m\u001b[0;34m]\u001b[0m\u001b[0;34m)\u001b[0m\u001b[0;34m\u001b[0m\u001b[0;34m\u001b[0m\u001b[0m\n\u001b[1;32m      3\u001b[0m \u001b[0mt2\u001b[0m \u001b[0;34m=\u001b[0m \u001b[0mtorch\u001b[0m\u001b[0;34m.\u001b[0m\u001b[0mtensor\u001b[0m\u001b[0;34m(\u001b[0m\u001b[0;34m[\u001b[0m\u001b[0;36m1\u001b[0m\u001b[0;34m,\u001b[0m\u001b[0;36m2\u001b[0m\u001b[0;34m,\u001b[0m\u001b[0;36m3\u001b[0m\u001b[0;34m,\u001b[0m\u001b[0;36m4\u001b[0m\u001b[0;34m]\u001b[0m\u001b[0;34m)\u001b[0m\u001b[0;34m\u001b[0m\u001b[0;34m\u001b[0m\u001b[0m\n\u001b[0;32m----> 4\u001b[0;31m \u001b[0mtorch\u001b[0m\u001b[0;34m.\u001b[0m\u001b[0meq\u001b[0m\u001b[0;34m(\u001b[0m\u001b[0mt1\u001b[0m\u001b[0;34m,\u001b[0m\u001b[0mt2\u001b[0m\u001b[0;34m)\u001b[0m\u001b[0;34m\u001b[0m\u001b[0;34m\u001b[0m\u001b[0m\n\u001b[0m",
            "\u001b[0;31mRuntimeError\u001b[0m: The size of tensor a (3) must match the size of tensor b (4) at non-singleton dimension 0"
          ]
        }
      ]
    },
    {
      "cell_type": "markdown",
      "metadata": {
        "id": "IF3kNaYJXM90",
        "colab_type": "text"
      },
      "source": [
        "Since the dimensions of both tensors do not match, error is returned."
      ]
    },
    {
      "cell_type": "markdown",
      "metadata": {
        "id": "WLXzwZ53XM90",
        "colab_type": "text"
      },
      "source": [
        "This function could be used to find mis-matches between two tensors."
      ]
    },
    {
      "cell_type": "markdown",
      "metadata": {
        "id": "SL9QTvCqXM91",
        "colab_type": "text"
      },
      "source": [
        "## Conclusion\n",
        "\n",
        "The above examples demonstrate some of the commonly used functions for tensor operations."
      ]
    },
    {
      "cell_type": "markdown",
      "metadata": {
        "id": "TBA0rULYXM91",
        "colab_type": "text"
      },
      "source": [
        "## Reference Links\n",
        "Provide links to your references and other interesting articles about tensors\n",
        "* Official documentation for `torch.Tensor`: https://pytorch.org/docs/stable/tensors.html\n",
        "* Understanding array brodcasting in python : https://www.pythonlikeyoumeanit.com/Module3_IntroducingNumpy/Broadcasting.html"
      ]
    },
    {
      "cell_type": "code",
      "metadata": {
        "id": "nkK6EpzbXM91",
        "colab_type": "code",
        "colab": {}
      },
      "source": [
        "!pip install jovian --upgrade --quiet"
      ],
      "execution_count": 0,
      "outputs": []
    },
    {
      "cell_type": "code",
      "metadata": {
        "id": "wpu9ZgbUXM94",
        "colab_type": "code",
        "colab": {}
      },
      "source": [
        "import jovian"
      ],
      "execution_count": 0,
      "outputs": []
    },
    {
      "cell_type": "code",
      "metadata": {
        "id": "xwWau-yJXM97",
        "colab_type": "code",
        "outputId": "dd9ecefe-e1b3-4aa4-fe34-62cc9fc05e82",
        "colab": {}
      },
      "source": [
        "jovian.commit()"
      ],
      "execution_count": 0,
      "outputs": [
        {
          "output_type": "display_data",
          "data": {
            "application/javascript": [
              "window.require && require([\"base/js/namespace\"],function(Jupyter){Jupyter.notebook.save_checkpoint()})"
            ],
            "text/plain": [
              "<IPython.core.display.Javascript object>"
            ]
          },
          "metadata": {
            "tags": []
          }
        },
        {
          "output_type": "stream",
          "text": [
            "[jovian] Attempting to save notebook..\u001b[0m\n"
          ],
          "name": "stdout"
        }
      ]
    },
    {
      "cell_type": "code",
      "metadata": {
        "id": "-uallM2JXM-A",
        "colab_type": "code",
        "colab": {}
      },
      "source": [
        ""
      ],
      "execution_count": 0,
      "outputs": []
    }
  ]
}