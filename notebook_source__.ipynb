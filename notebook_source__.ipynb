{
  "nbformat": 4,
  "nbformat_minor": 0,
  "metadata": {
    "kernelspec": {
      "display_name": "Python 3",
      "language": "python",
      "name": "python3"
    },
    "language_info": {
      "codemirror_mode": {
        "name": "ipython",
        "version": 3
      },
      "file_extension": ".py",
      "mimetype": "text/x-python",
      "name": "python",
      "nbconvert_exporter": "python",
      "pygments_lexer": "ipython3",
      "version": "3.6.4"
    },
    "colab": {
      "name": "notebook_source__.ipynb",
      "provenance": []
    }
  },
  "cells": [
    {
      "cell_type": "markdown",
      "metadata": {
        "_cell_guid": "b1076dfc-b9ad-4769-8c92-a6c4dae69d19",
        "_uuid": "8f2839f25d086af736a60e9eeb907d3b93b6e0e5",
        "id": "DqK6fh9N_nXb",
        "colab_type": "text"
      },
      "source": [
        "# Insurance cost prediction using linear regression\n",
        "\n",
        "In this assignment we're going to use information like a person's age, sex, BMI, no. of children and smoking habit to predict the price of yearly medical bills. This kind of model is useful for insurance companies to determine the yearly insurance premium for a person. The dataset for this problem is taken from: https://www.kaggle.com/mirichoi0218/insurance\n",
        "\n",
        "\n",
        "We will create a model with the following steps:\n",
        "1. Download and explore the dataset\n",
        "2. Prepare the dataset for training\n",
        "3. Create a linear regression model\n",
        "4. Train the model to fit the data\n",
        "5. Make predictions using the trained model\n",
        "\n",
        "\n",
        "This assignment builds upon the concepts from the first 2 lectures. It will help to review these Jupyter notebooks:\n",
        "- PyTorch basics: https://jovian.ml/aakashns/01-pytorch-basics\n",
        "- Linear Regression: https://jovian.ml/aakashns/02-linear-regression\n",
        "- Logistic Regression: https://jovian.ml/aakashns/03-logistic-regression\n",
        "- Linear regression (minimal): https://jovian.ml/aakashns/housing-linear-minimal\n",
        "- Logistic regression (minimal): https://jovian.ml/aakashns/mnist-logistic-minimal\n",
        "\n",
        "As you go through this notebook, you will find a **???** in certain places. Your job is to replace the **???** with appropriate code or values, to ensure that the notebook runs properly end-to-end . In some cases, you'll be required to choose some hyperparameters (learning rate, batch size etc.). Try to experiment with the hypeparameters to get the lowest loss.\n"
      ]
    },
    {
      "cell_type": "code",
      "metadata": {
        "id": "ahWHmNYT_nXc",
        "colab_type": "code",
        "colab": {},
        "outputId": "c7d54f4b-35a2-41ce-eced-a592eaf1692d"
      },
      "source": [
        "# Uncomment and run the commands below if imports fail\n",
        "#!conda install numpy pytorch torchvision cpuonly -c pytorch -y\n",
        "#!pip install matplotlib --upgrade --quiet\n",
        "!pip install jovian --upgrade --quiet"
      ],
      "execution_count": 0,
      "outputs": [
        {
          "output_type": "stream",
          "text": [
            "\u001b[33mWARNING: You are using pip version 20.1; however, version 20.1.1 is available.\r\n",
            "You should consider upgrading via the '/opt/conda/bin/python3.7 -m pip install --upgrade pip' command.\u001b[0m\r\n"
          ],
          "name": "stdout"
        }
      ]
    },
    {
      "cell_type": "code",
      "metadata": {
        "id": "hE9Uq4to_nXh",
        "colab_type": "code",
        "colab": {},
        "outputId": "9317a4e5-15eb-4705-f9a9-661502dc7eb8"
      },
      "source": [
        "import torch\n",
        "import jovian\n",
        "import torchvision\n",
        "import torch.nn as nn\n",
        "import pandas as pd\n",
        "import matplotlib.pyplot as plt\n",
        "import torch.nn.functional as F\n",
        "from torchvision.datasets.utils import download_url\n",
        "from torch.utils.data import DataLoader, TensorDataset, random_split"
      ],
      "execution_count": 0,
      "outputs": [
        {
          "output_type": "display_data",
          "data": {
            "application/javascript": [
              "if (window.IPython && IPython.notebook.kernel) IPython.notebook.kernel.execute('jovian.utils.jupyter.get_notebook_name_saved = lambda: \"' + IPython.notebook.notebook_name + '\"')"
            ],
            "text/plain": [
              "<IPython.core.display.Javascript object>"
            ]
          },
          "metadata": {
            "tags": []
          }
        }
      ]
    },
    {
      "cell_type": "code",
      "metadata": {
        "id": "RDjZUtAS_nXk",
        "colab_type": "code",
        "colab": {}
      },
      "source": [
        "project_name='02-insurance-linear-regression' # will be used by jovian.commit"
      ],
      "execution_count": 0,
      "outputs": []
    },
    {
      "cell_type": "markdown",
      "metadata": {
        "id": "56s-t5ZR_nXm",
        "colab_type": "text"
      },
      "source": [
        "## Step 1: Download and explore the data\n",
        "\n",
        "Let us begin by downloading the data. We'll use the `download_url` function from PyTorch to get the data as a CSV (comma-separated values) file. "
      ]
    },
    {
      "cell_type": "code",
      "metadata": {
        "_cell_guid": "79c7e3d0-c299-4dcb-8224-4455121ee9b0",
        "_uuid": "d629ff2d2480ee46fbb7e2d37f6b5fab8052498a",
        "id": "6LYrFFo3_nXm",
        "colab_type": "code",
        "colab": {
          "referenced_widgets": [
            "a18fff1d0b39480dba24f4414335c40c"
          ]
        },
        "outputId": "4c6c2909-a258-4c10-cb93-e5704750f2eb"
      },
      "source": [
        "DATASET_URL = \"https://hub.jovian.ml/wp-content/uploads/2020/05/insurance.csv\"\n",
        "DATA_FILENAME = \"insurance.csv\"\n",
        "download_url(DATASET_URL, '.')"
      ],
      "execution_count": 0,
      "outputs": [
        {
          "output_type": "stream",
          "text": [
            "Downloading https://hub.jovian.ml/wp-content/uploads/2020/05/insurance.csv to ./insurance.csv\n"
          ],
          "name": "stdout"
        },
        {
          "output_type": "display_data",
          "data": {
            "application/vnd.jupyter.widget-view+json": {
              "model_id": "a18fff1d0b39480dba24f4414335c40c",
              "version_major": 2,
              "version_minor": 0
            },
            "text/plain": [
              "HBox(children=(FloatProgress(value=1.0, bar_style='info', max=1.0), HTML(value='')))"
            ]
          },
          "metadata": {
            "tags": []
          }
        }
      ]
    },
    {
      "cell_type": "markdown",
      "metadata": {
        "id": "MkqKLd6B_nXp",
        "colab_type": "text"
      },
      "source": [
        "To load the dataset into memory, we'll use the `read_csv` function from the `pandas` library. The data will be loaded as a Pandas dataframe. See this short tutorial to learn more: https://data36.com/pandas-tutorial-1-basics-reading-data-files-dataframes-data-selection/"
      ]
    },
    {
      "cell_type": "code",
      "metadata": {
        "id": "F2ceNEV3_nXr",
        "colab_type": "code",
        "colab": {},
        "outputId": "63ac0181-6a8b-437e-fec2-bf9282c00b27"
      },
      "source": [
        "dataframe_raw = pd.read_csv(DATA_FILENAME)\n",
        "dataframe_raw.head()"
      ],
      "execution_count": 0,
      "outputs": [
        {
          "output_type": "execute_result",
          "data": {
            "text/html": [
              "<div>\n",
              "<style scoped>\n",
              "    .dataframe tbody tr th:only-of-type {\n",
              "        vertical-align: middle;\n",
              "    }\n",
              "\n",
              "    .dataframe tbody tr th {\n",
              "        vertical-align: top;\n",
              "    }\n",
              "\n",
              "    .dataframe thead th {\n",
              "        text-align: right;\n",
              "    }\n",
              "</style>\n",
              "<table border=\"1\" class=\"dataframe\">\n",
              "  <thead>\n",
              "    <tr style=\"text-align: right;\">\n",
              "      <th></th>\n",
              "      <th>age</th>\n",
              "      <th>sex</th>\n",
              "      <th>bmi</th>\n",
              "      <th>children</th>\n",
              "      <th>smoker</th>\n",
              "      <th>region</th>\n",
              "      <th>charges</th>\n",
              "    </tr>\n",
              "  </thead>\n",
              "  <tbody>\n",
              "    <tr>\n",
              "      <th>0</th>\n",
              "      <td>19</td>\n",
              "      <td>female</td>\n",
              "      <td>27.900</td>\n",
              "      <td>0</td>\n",
              "      <td>yes</td>\n",
              "      <td>southwest</td>\n",
              "      <td>16884.92400</td>\n",
              "    </tr>\n",
              "    <tr>\n",
              "      <th>1</th>\n",
              "      <td>18</td>\n",
              "      <td>male</td>\n",
              "      <td>33.770</td>\n",
              "      <td>1</td>\n",
              "      <td>no</td>\n",
              "      <td>southeast</td>\n",
              "      <td>1725.55230</td>\n",
              "    </tr>\n",
              "    <tr>\n",
              "      <th>2</th>\n",
              "      <td>28</td>\n",
              "      <td>male</td>\n",
              "      <td>33.000</td>\n",
              "      <td>3</td>\n",
              "      <td>no</td>\n",
              "      <td>southeast</td>\n",
              "      <td>4449.46200</td>\n",
              "    </tr>\n",
              "    <tr>\n",
              "      <th>3</th>\n",
              "      <td>33</td>\n",
              "      <td>male</td>\n",
              "      <td>22.705</td>\n",
              "      <td>0</td>\n",
              "      <td>no</td>\n",
              "      <td>northwest</td>\n",
              "      <td>21984.47061</td>\n",
              "    </tr>\n",
              "    <tr>\n",
              "      <th>4</th>\n",
              "      <td>32</td>\n",
              "      <td>male</td>\n",
              "      <td>28.880</td>\n",
              "      <td>0</td>\n",
              "      <td>no</td>\n",
              "      <td>northwest</td>\n",
              "      <td>3866.85520</td>\n",
              "    </tr>\n",
              "  </tbody>\n",
              "</table>\n",
              "</div>"
            ],
            "text/plain": [
              "   age     sex     bmi  children smoker     region      charges\n",
              "0   19  female  27.900         0    yes  southwest  16884.92400\n",
              "1   18    male  33.770         1     no  southeast   1725.55230\n",
              "2   28    male  33.000         3     no  southeast   4449.46200\n",
              "3   33    male  22.705         0     no  northwest  21984.47061\n",
              "4   32    male  28.880         0     no  northwest   3866.85520"
            ]
          },
          "metadata": {
            "tags": []
          },
          "execution_count": 5
        }
      ]
    },
    {
      "cell_type": "markdown",
      "metadata": {
        "id": "fAqjPKwr_nXu",
        "colab_type": "text"
      },
      "source": [
        "We're going to do a slight customization of the data, so that you every participant receives a slightly different version of the dataset. Fill in your name below as a string (enter at least 5 characters)"
      ]
    },
    {
      "cell_type": "code",
      "metadata": {
        "id": "eNnbQdoM_nXv",
        "colab_type": "code",
        "colab": {}
      },
      "source": [
        "your_name = 'bazinga' # at least 5 characters"
      ],
      "execution_count": 0,
      "outputs": []
    },
    {
      "cell_type": "markdown",
      "metadata": {
        "id": "Ri2Wm2us_nXy",
        "colab_type": "text"
      },
      "source": [
        "The `customize_dataset` function will customize the dataset slightly using your name as a source of random numbers."
      ]
    },
    {
      "cell_type": "code",
      "metadata": {
        "id": "jsueR4lM_nXy",
        "colab_type": "code",
        "colab": {}
      },
      "source": [
        "def customize_dataset(dataframe_raw, rand_str):\n",
        "    dataframe = dataframe_raw.copy(deep=True)\n",
        "    # drop some rows\n",
        "    dataframe = dataframe.sample(int(0.95*len(dataframe)), random_state=int(ord(rand_str[0])))\n",
        "    # scale input\n",
        "    dataframe.bmi = dataframe.bmi * ord(rand_str[1])/100.\n",
        "    # scale target\n",
        "    dataframe.charges = dataframe.charges * ord(rand_str[2])/100.\n",
        "    # drop column\n",
        "    if ord(rand_str[3]) % 2 == 1:\n",
        "        dataframe = dataframe.drop(['region'], axis=1)\n",
        "    return dataframe"
      ],
      "execution_count": 0,
      "outputs": []
    },
    {
      "cell_type": "code",
      "metadata": {
        "id": "uACcBcyH_nX1",
        "colab_type": "code",
        "colab": {},
        "outputId": "7eb7439a-eaff-4216-f841-c644248ee245"
      },
      "source": [
        "dataframe = customize_dataset(dataframe_raw, your_name)\n",
        "dataframe.head()"
      ],
      "execution_count": 0,
      "outputs": [
        {
          "output_type": "execute_result",
          "data": {
            "text/html": [
              "<div>\n",
              "<style scoped>\n",
              "    .dataframe tbody tr th:only-of-type {\n",
              "        vertical-align: middle;\n",
              "    }\n",
              "\n",
              "    .dataframe tbody tr th {\n",
              "        vertical-align: top;\n",
              "    }\n",
              "\n",
              "    .dataframe thead th {\n",
              "        text-align: right;\n",
              "    }\n",
              "</style>\n",
              "<table border=\"1\" class=\"dataframe\">\n",
              "  <thead>\n",
              "    <tr style=\"text-align: right;\">\n",
              "      <th></th>\n",
              "      <th>age</th>\n",
              "      <th>sex</th>\n",
              "      <th>bmi</th>\n",
              "      <th>children</th>\n",
              "      <th>smoker</th>\n",
              "      <th>charges</th>\n",
              "    </tr>\n",
              "  </thead>\n",
              "  <tbody>\n",
              "    <tr>\n",
              "      <th>1306</th>\n",
              "      <td>29</td>\n",
              "      <td>female</td>\n",
              "      <td>21.1945</td>\n",
              "      <td>0</td>\n",
              "      <td>yes</td>\n",
              "      <td>19660.671490</td>\n",
              "    </tr>\n",
              "    <tr>\n",
              "      <th>206</th>\n",
              "      <td>59</td>\n",
              "      <td>male</td>\n",
              "      <td>25.6080</td>\n",
              "      <td>0</td>\n",
              "      <td>no</td>\n",
              "      <td>14326.824780</td>\n",
              "    </tr>\n",
              "    <tr>\n",
              "      <th>191</th>\n",
              "      <td>36</td>\n",
              "      <td>female</td>\n",
              "      <td>25.4140</td>\n",
              "      <td>0</td>\n",
              "      <td>no</td>\n",
              "      <td>5958.316520</td>\n",
              "    </tr>\n",
              "    <tr>\n",
              "      <th>573</th>\n",
              "      <td>62</td>\n",
              "      <td>female</td>\n",
              "      <td>35.7542</td>\n",
              "      <td>1</td>\n",
              "      <td>no</td>\n",
              "      <td>38576.401293</td>\n",
              "    </tr>\n",
              "    <tr>\n",
              "      <th>76</th>\n",
              "      <td>29</td>\n",
              "      <td>female</td>\n",
              "      <td>28.7023</td>\n",
              "      <td>1</td>\n",
              "      <td>no</td>\n",
              "      <td>4815.843982</td>\n",
              "    </tr>\n",
              "  </tbody>\n",
              "</table>\n",
              "</div>"
            ],
            "text/plain": [
              "      age     sex      bmi  children smoker       charges\n",
              "1306   29  female  21.1945         0    yes  19660.671490\n",
              "206    59    male  25.6080         0     no  14326.824780\n",
              "191    36  female  25.4140         0     no   5958.316520\n",
              "573    62  female  35.7542         1     no  38576.401293\n",
              "76     29  female  28.7023         1     no   4815.843982"
            ]
          },
          "metadata": {
            "tags": []
          },
          "execution_count": 8
        }
      ]
    },
    {
      "cell_type": "markdown",
      "metadata": {
        "id": "nJLIdU9U_nX3",
        "colab_type": "text"
      },
      "source": [
        "Let us answer some basic questions about the dataset. \n",
        "\n",
        "\n",
        "**Q: How many rows does the dataset have?**"
      ]
    },
    {
      "cell_type": "code",
      "metadata": {
        "id": "3Iy3EMtK_nX3",
        "colab_type": "code",
        "colab": {},
        "outputId": "b9a582bd-eada-4fa9-9d66-649e08253613"
      },
      "source": [
        "num_rows = len(dataframe)\n",
        "print(num_rows)"
      ],
      "execution_count": 0,
      "outputs": [
        {
          "output_type": "stream",
          "text": [
            "1271\n"
          ],
          "name": "stdout"
        }
      ]
    },
    {
      "cell_type": "markdown",
      "metadata": {
        "id": "gQv5e8O-_nX5",
        "colab_type": "text"
      },
      "source": [
        "**Q: How many columns doe the dataset have**"
      ]
    },
    {
      "cell_type": "code",
      "metadata": {
        "id": "o5xLiAc5_nX6",
        "colab_type": "code",
        "colab": {},
        "outputId": "afff3a0b-13be-463c-b30d-732ef3e106cf"
      },
      "source": [
        "num_cols = len(dataframe.columns)\n",
        "print(num_cols)"
      ],
      "execution_count": 0,
      "outputs": [
        {
          "output_type": "stream",
          "text": [
            "6\n"
          ],
          "name": "stdout"
        }
      ]
    },
    {
      "cell_type": "markdown",
      "metadata": {
        "id": "MxhIdjpM_nX8",
        "colab_type": "text"
      },
      "source": [
        "**Q: What are the column titles of the input variables?**"
      ]
    },
    {
      "cell_type": "code",
      "metadata": {
        "id": "-Yydw6wI_nX8",
        "colab_type": "code",
        "colab": {}
      },
      "source": [
        "input_cols = ['age','bmi', 'children','sex','smoker']"
      ],
      "execution_count": 0,
      "outputs": []
    },
    {
      "cell_type": "markdown",
      "metadata": {
        "id": "2fP3URJo_nX-",
        "colab_type": "text"
      },
      "source": [
        "**Q: Which of the input columns are non-numeric or categorial variables ?**\n",
        "\n",
        "Hint: `sex` is one of them. List the columns that are not numbers."
      ]
    },
    {
      "cell_type": "code",
      "metadata": {
        "id": "-eehI3HF_nX_",
        "colab_type": "code",
        "colab": {}
      },
      "source": [
        "categorical_cols = ['sex','smoker']"
      ],
      "execution_count": 0,
      "outputs": []
    },
    {
      "cell_type": "markdown",
      "metadata": {
        "id": "7GkLffNW_nYB",
        "colab_type": "text"
      },
      "source": [
        "**Q: What are the column titles of output/target variable(s)?**"
      ]
    },
    {
      "cell_type": "code",
      "metadata": {
        "id": "adefO9Mp_nYB",
        "colab_type": "code",
        "colab": {}
      },
      "source": [
        "output_cols = ['charges']"
      ],
      "execution_count": 0,
      "outputs": []
    },
    {
      "cell_type": "markdown",
      "metadata": {
        "id": "GfL0vrj1_nYD",
        "colab_type": "text"
      },
      "source": [
        "**Q: (Optional) What is the minimum, maximum and average value of the `charges` column? Can you show the distribution of values in a graph?**\n",
        "Use this data visualization cheatsheet for referece: https://jovian.ml/aakashns/dataviz-cheatsheet"
      ]
    },
    {
      "cell_type": "code",
      "metadata": {
        "id": "2c7TQq5d_nYE",
        "colab_type": "code",
        "colab": {},
        "outputId": "71acaf23-2fcf-4620-e7df-fd2a6936c226"
      },
      "source": [
        "# Write your answer here\n",
        "import numpy as np\n",
        "agg_charges = dataframe.agg({'charges': [np.min, np.max, np.mean]})\n",
        "print(agg_charges)\n",
        "\n",
        "plt.title(\"Distribution of Charges\")\n",
        "plt.hist(dataframe['charges'], color = 'blue', edgecolor = 'black')\n"
      ],
      "execution_count": 0,
      "outputs": [
        {
          "output_type": "stream",
          "text": [
            "           charges\n",
            "amin   1368.686158\n",
            "amax  77799.922172\n",
            "mean  16308.444978\n"
          ],
          "name": "stdout"
        },
        {
          "output_type": "execute_result",
          "data": {
            "text/plain": [
              "(array([505., 382., 120.,  80.,  34.,  57.,  55.,  32.,   2.,   4.]),\n",
              " array([ 1368.686158  ,  9011.80975942, 16654.93336084, 24298.05696226,\n",
              "        31941.18056368, 39584.3041651 , 47227.42776652, 54870.55136794,\n",
              "        62513.67496936, 70156.79857078, 77799.9221722 ]),\n",
              " <a list of 10 Patch objects>)"
            ]
          },
          "metadata": {
            "tags": []
          },
          "execution_count": 14
        },
        {
          "output_type": "display_data",
          "data": {
            "image/png": "[encoded data removed]",
            "text/plain": [
              "<Figure size 432x288 with 1 Axes>"
            ]
          },
          "metadata": {
            "tags": [],
            "needs_background": "light"
          }
        }
      ]
    },
    {
      "cell_type": "markdown",
      "metadata": {
        "id": "-id4EQzT_nYG",
        "colab_type": "text"
      },
      "source": [
        "Remember to commit your notebook to Jovian after every step, so that you don't lose your work."
      ]
    },
    {
      "cell_type": "code",
      "metadata": {
        "id": "plWZ759g_nYG",
        "colab_type": "code",
        "colab": {},
        "outputId": "526f248b-5f07-4ccd-9116-8167822b5a4c"
      },
      "source": [
        "jovian.commit(project=project_name, environment=None)"
      ],
      "execution_count": 0,
      "outputs": [
        {
          "output_type": "display_data",
          "data": {
            "application/javascript": [
              "window.require && require([\"base/js/namespace\"],function(Jupyter){Jupyter.notebook.save_checkpoint()})"
            ],
            "text/plain": [
              "<IPython.core.display.Javascript object>"
            ]
          },
          "metadata": {
            "tags": []
          }
        },
        {
          "output_type": "stream",
          "text": [
            "[jovian] Attempting to save notebook..\u001b[0m\n",
            "[jovian] Please enter your API key ( from https://jovian.ml/ ):\u001b[0m\n",
            "API KEY: ········\n",
            "[jovian] Updating notebook \"developer1110/02-insurance-linear-regression\" on https://jovian.ml/\u001b[0m\n",
            "[jovian] Uploading notebook..\u001b[0m\n",
            "[jovian] Committed successfully! https://jovian.ml/developer1110/02-insurance-linear-regression\u001b[0m\n"
          ],
          "name": "stdout"
        },
        {
          "output_type": "execute_result",
          "data": {
            "text/plain": [
              "'https://jovian.ml/developer1110/02-insurance-linear-regression'"
            ]
          },
          "metadata": {
            "tags": []
          },
          "execution_count": 15
        }
      ]
    },
    {
      "cell_type": "markdown",
      "metadata": {
        "id": "s4n65lin_nYI",
        "colab_type": "text"
      },
      "source": [
        "## Step 2: Prepare the dataset for training\n",
        "\n",
        "We need to convert the data from the Pandas dataframe into a PyTorch tensors for training. To do this, the first step is to convert it numpy arrays. If you've filled out `input_cols`, `categorial_cols` and `output_cols` correctly, this following function will perform the conversion to numpy arrays."
      ]
    },
    {
      "cell_type": "code",
      "metadata": {
        "id": "BaTVbfdI_nYI",
        "colab_type": "code",
        "colab": {}
      },
      "source": [
        "def dataframe_to_arrays(dataframe):\n",
        "    # Make a copy of the original dataframe\n",
        "    dataframe1 = dataframe.copy(deep=True)\n",
        "    # Convert non-numeric categorical columns to numbers\n",
        "    for col in categorical_cols:\n",
        "        dataframe1[col] = dataframe1[col].astype('category').cat.codes\n",
        "    # Extract input & outupts as numpy arrays\n",
        "    inputs_array = dataframe1[input_cols].to_numpy()\n",
        "    targets_array = dataframe1[output_cols].to_numpy()\n",
        "    return inputs_array, targets_array"
      ],
      "execution_count": 0,
      "outputs": []
    },
    {
      "cell_type": "markdown",
      "metadata": {
        "id": "3_JfkN8M_nYK",
        "colab_type": "text"
      },
      "source": [
        "Read through the [Pandas documentation](https://pandas.pydata.org/pandas-docs/stable/user_guide/categorical.html) to understand how we're converting categorical variables into numbers."
      ]
    },
    {
      "cell_type": "code",
      "metadata": {
        "id": "iyvwKjDj_nYK",
        "colab_type": "code",
        "colab": {},
        "outputId": "66d59573-552b-426c-9729-bf7a2b88d4e0"
      },
      "source": [
        "inputs_array, targets_array = dataframe_to_arrays(dataframe)\n",
        "inputs_array, targets_array"
      ],
      "execution_count": 0,
      "outputs": [
        {
          "output_type": "execute_result",
          "data": {
            "text/plain": [
              "(array([[29.     , 21.1945 ,  0.     ,  0.     ,  1.     ],\n",
              "        [59.     , 25.608  ,  0.     ,  1.     ,  0.     ],\n",
              "        [36.     , 25.414  ,  0.     ,  0.     ,  0.     ],\n",
              "        ...,\n",
              "        [40.     , 40.1774 ,  1.     ,  0.     ,  0.     ],\n",
              "        [52.     , 17.78495,  0.     ,  0.     ,  0.     ],\n",
              "        [39.     , 34.241  ,  2.     ,  1.     ,  1.     ]]),\n",
              " array([[19660.67149  ],\n",
              "        [14326.82478  ],\n",
              "        [ 5958.31652  ],\n",
              "        ...,\n",
              "        [34741.6166878],\n",
              "        [12189.065933 ],\n",
              "        [48926.7458   ]]))"
            ]
          },
          "metadata": {
            "tags": []
          },
          "execution_count": 17
        }
      ]
    },
    {
      "cell_type": "markdown",
      "metadata": {
        "id": "rf8uAcqF_nYM",
        "colab_type": "text"
      },
      "source": [
        "**Q: Convert the numpy arrays `inputs_array` and `targets_array` into PyTorch tensors. Make sure that the data type is `torch.float32`.**"
      ]
    },
    {
      "cell_type": "code",
      "metadata": {
        "id": "I1m0hM4U_nYN",
        "colab_type": "code",
        "colab": {}
      },
      "source": [
        "inputs = torch.tensor(inputs_array, dtype=torch.float)\n",
        "targets = torch.tensor(targets_array, dtype=torch.float)"
      ],
      "execution_count": 0,
      "outputs": []
    },
    {
      "cell_type": "code",
      "metadata": {
        "id": "3Bo_4Pwd_nYR",
        "colab_type": "code",
        "colab": {},
        "outputId": "6c5c145d-f988-40b5-a228-88568d2ea0e7"
      },
      "source": [
        "inputs.dtype, targets.dtype"
      ],
      "execution_count": 0,
      "outputs": [
        {
          "output_type": "execute_result",
          "data": {
            "text/plain": [
              "(torch.float32, torch.float32)"
            ]
          },
          "metadata": {
            "tags": []
          },
          "execution_count": 19
        }
      ]
    },
    {
      "cell_type": "markdown",
      "metadata": {
        "id": "YAwjASa8_nYS",
        "colab_type": "text"
      },
      "source": [
        "Next, we need to create PyTorch datasets & data loaders for training & validation. We'll start by creating a `TensorDataset`."
      ]
    },
    {
      "cell_type": "code",
      "metadata": {
        "id": "QJcLJyfk_nYT",
        "colab_type": "code",
        "colab": {}
      },
      "source": [
        "dataset = TensorDataset(inputs, targets)"
      ],
      "execution_count": 0,
      "outputs": []
    },
    {
      "cell_type": "markdown",
      "metadata": {
        "id": "By_hkSQv_nYV",
        "colab_type": "text"
      },
      "source": [
        "**Q: Pick a number between `0.1` and `0.2` to determine the fraction of data that will be used for creating the validation set. Then use `random_split` to create training & validation datasets. **"
      ]
    },
    {
      "cell_type": "code",
      "metadata": {
        "id": "CKzMs83F_nYV",
        "colab_type": "code",
        "colab": {}
      },
      "source": [
        "val_percent = .1743 # between 0.1 and 0.2\n",
        "val_size = int(num_rows * val_percent)\n",
        "train_size = num_rows - val_size\n",
        "\n",
        "\n",
        "train_ds, val_ds = random_split(dataset, [train_size, val_size]) # Use the random_split function to split dataset into 2 parts of the desired length"
      ],
      "execution_count": 0,
      "outputs": []
    },
    {
      "cell_type": "markdown",
      "metadata": {
        "id": "ibEo1tgh_nYY",
        "colab_type": "text"
      },
      "source": [
        "Finally, we can create data loaders for training & validation.\n",
        "\n",
        "**Q: Pick a batch size for the data loader.**"
      ]
    },
    {
      "cell_type": "code",
      "metadata": {
        "id": "7KAn05_J_nYY",
        "colab_type": "code",
        "colab": {}
      },
      "source": [
        "batch_size = 128"
      ],
      "execution_count": 0,
      "outputs": []
    },
    {
      "cell_type": "code",
      "metadata": {
        "id": "HwoVuUmO_nYb",
        "colab_type": "code",
        "colab": {}
      },
      "source": [
        "train_loader = DataLoader(train_ds, batch_size, shuffle=True)\n",
        "val_loader = DataLoader(val_ds, batch_size)"
      ],
      "execution_count": 0,
      "outputs": []
    },
    {
      "cell_type": "markdown",
      "metadata": {
        "id": "nijpVoY1_nYd",
        "colab_type": "text"
      },
      "source": [
        "Let's look at a batch of data to verify everything is working fine so far."
      ]
    },
    {
      "cell_type": "code",
      "metadata": {
        "id": "IXLPFIem_nYd",
        "colab_type": "code",
        "colab": {},
        "outputId": "b259cdc6-df96-40f8-9767-3bc444c0022d"
      },
      "source": [
        "for xb, yb in train_loader:\n",
        "    print(\"inputs:\", xb)\n",
        "    print(\"targets:\", yb)\n",
        "    break"
      ],
      "execution_count": 0,
      "outputs": [
        {
          "output_type": "stream",
          "text": [
            "inputs: tensor([[21.0000, 22.5137,  0.0000,  1.0000,  0.0000],\n",
            "        [60.0000, 30.4095,  3.0000,  1.0000,  1.0000],\n",
            "        [19.0000, 35.4777,  0.0000,  0.0000,  0.0000],\n",
            "        [26.0000, 28.7508,  4.0000,  0.0000,  0.0000],\n",
            "        [36.0000, 29.0224,  1.0000,  0.0000,  0.0000],\n",
            "        [49.0000, 35.5311,  3.0000,  0.0000,  0.0000],\n",
            "        [20.0000, 39.2559,  0.0000,  1.0000,  0.0000],\n",
            "        [25.0000, 34.5563,  0.0000,  1.0000,  0.0000],\n",
            "        [40.0000, 31.7917,  1.0000,  1.0000,  1.0000],\n",
            "        [58.0000, 30.8703,  2.0000,  0.0000,  0.0000],\n",
            "        [18.0000, 32.3301,  0.0000,  1.0000,  0.0000],\n",
            "        [50.0000, 26.9951,  3.0000,  0.0000,  0.0000],\n",
            "        [38.0000, 37.2383,  3.0000,  1.0000,  1.0000],\n",
            "        [20.0000, 30.8363,  2.0000,  0.0000,  0.0000],\n",
            "        [54.0000, 28.0136,  2.0000,  0.0000,  0.0000],\n",
            "        [18.0000, 38.6254,  0.0000,  0.0000,  0.0000],\n",
            "        [47.0000, 43.9604,  1.0000,  0.0000,  0.0000],\n",
            "        [44.0000, 31.3698,  1.0000,  0.0000,  0.0000],\n",
            "        [37.0000, 33.1740,  1.0000,  1.0000,  1.0000],\n",
            "        [29.0000, 22.2082,  0.0000,  1.0000,  1.0000],\n",
            "        [28.0000, 32.1167,  0.0000,  0.0000,  0.0000],\n",
            "        [23.0000, 25.7147,  0.0000,  1.0000,  0.0000],\n",
            "        [54.0000, 26.8157,  1.0000,  0.0000,  0.0000],\n",
            "        [41.0000, 35.9870,  2.0000,  0.0000,  0.0000],\n",
            "        [29.0000, 28.7508,  1.0000,  1.0000,  0.0000],\n",
            "        [43.0000, 26.9660,  0.0000,  1.0000,  1.0000],\n",
            "        [61.0000, 37.9270,  2.0000,  0.0000,  0.0000],\n",
            "        [40.0000, 24.3276,  0.0000,  1.0000,  0.0000],\n",
            "        [55.0000, 37.1316,  0.0000,  1.0000,  0.0000],\n",
            "        [41.0000, 30.0894,  0.0000,  0.0000,  0.0000],\n",
            "        [35.0000, 25.3412,  0.0000,  0.0000,  0.0000],\n",
            "        [58.0000, 22.0869,  0.0000,  0.0000,  0.0000],\n",
            "        [40.0000, 28.7120,  0.0000,  0.0000,  0.0000],\n",
            "        [55.0000, 26.8157,  0.0000,  1.0000,  0.0000],\n",
            "        [54.0000, 30.6520,  0.0000,  1.0000,  0.0000],\n",
            "        [19.0000, 22.6980,  2.0000,  0.0000,  0.0000],\n",
            "        [54.0000, 23.8668,  3.0000,  0.0000,  0.0000],\n",
            "        [52.0000, 29.2940,  1.0000,  1.0000,  0.0000],\n",
            "        [27.0000, 33.7560,  1.0000,  0.0000,  0.0000],\n",
            "        [24.0000, 29.3037,  3.0000,  0.0000,  0.0000],\n",
            "        [27.0000, 32.1604,  2.0000,  1.0000,  0.0000],\n",
            "        [50.0000, 31.3310,  2.0000,  1.0000,  0.0000],\n",
            "        [43.0000, 26.5392,  3.0000,  1.0000,  0.0000],\n",
            "        [18.0000, 51.5361,  0.0000,  1.0000,  0.0000],\n",
            "        [46.0000, 29.5802,  3.0000,  1.0000,  1.0000],\n",
            "        [54.0000, 34.7406,  3.0000,  0.0000,  0.0000],\n",
            "        [35.0000, 34.7842,  2.0000,  0.0000,  0.0000],\n",
            "        [44.0000, 26.5780,  2.0000,  1.0000,  0.0000],\n",
            "        [32.0000, 42.8934,  0.0000,  0.0000,  0.0000],\n",
            "        [23.0000, 33.9112,  3.0000,  0.0000,  0.0000],\n",
            "        [43.0000, 22.5040,  0.0000,  1.0000,  0.0000],\n",
            "        [45.0000, 22.2082,  2.0000,  1.0000,  1.0000],\n",
            "        [19.0000, 27.4607,  0.0000,  0.0000,  1.0000],\n",
            "        [39.0000, 23.1539,  5.0000,  0.0000,  0.0000],\n",
            "        [19.0000, 34.3380,  0.0000,  1.0000,  0.0000],\n",
            "        [43.0000, 34.6484,  2.0000,  0.0000,  0.0000],\n",
            "        [64.0000, 39.2656,  0.0000,  1.0000,  0.0000],\n",
            "        [63.0000, 34.0373,  0.0000,  1.0000,  1.0000],\n",
            "        [19.0000, 20.0790,  0.0000,  1.0000,  0.0000],\n",
            "        [32.0000, 36.0307,  3.0000,  0.0000,  0.0000],\n",
            "        [43.0000, 36.9182,  2.0000,  1.0000,  1.0000],\n",
            "        [29.0000, 31.1467,  2.0000,  1.0000,  0.0000],\n",
            "        [26.0000, 38.9795,  0.0000,  0.0000,  0.0000],\n",
            "        [56.0000, 32.7132,  0.0000,  1.0000,  0.0000],\n",
            "        [21.0000, 35.7445,  0.0000,  1.0000,  0.0000],\n",
            "        [55.0000, 36.5835,  3.0000,  1.0000,  0.0000],\n",
            "        [47.0000, 24.6962,  2.0000,  1.0000,  0.0000],\n",
            "        [36.0000, 28.1688,  4.0000,  0.0000,  0.0000],\n",
            "        [60.0000, 25.0648,  0.0000,  0.0000,  0.0000],\n",
            "        [40.0000, 40.1774,  1.0000,  0.0000,  0.0000],\n",
            "        [59.0000, 31.4231,  3.0000,  0.0000,  0.0000],\n",
            "        [57.0000, 24.9678,  2.0000,  0.0000,  0.0000],\n",
            "        [46.0000, 25.8214,  1.0000,  1.0000,  0.0000],\n",
            "        [30.0000, 37.6651,  1.0000,  1.0000,  0.0000],\n",
            "        [58.0000, 26.3549,  0.0000,  0.0000,  0.0000],\n",
            "        [34.0000, 18.4300,  3.0000,  0.0000,  0.0000],\n",
            "        [50.0000, 22.8338,  2.0000,  0.0000,  0.0000],\n",
            "        [35.0000, 22.7610,  2.0000,  0.0000,  0.0000],\n",
            "        [39.0000, 21.1945,  1.0000,  1.0000,  0.0000],\n",
            "        [49.0000, 26.2870,  1.0000,  0.0000,  0.0000],\n",
            "        [51.0000, 39.4402,  0.0000,  0.0000,  0.0000],\n",
            "        [48.0000, 23.6874,  0.0000,  1.0000,  1.0000],\n",
            "        [35.0000, 17.3242,  1.0000,  1.0000,  0.0000],\n",
            "        [54.0000, 31.3310,  1.0000,  0.0000,  0.0000],\n",
            "        [26.0000, 28.5665,  0.0000,  1.0000,  0.0000],\n",
            "        [51.0000, 32.3301,  3.0000,  1.0000,  0.0000],\n",
            "        [56.0000, 30.8363,  2.0000,  1.0000,  1.0000],\n",
            "        [18.0000, 25.3946,  2.0000,  1.0000,  0.0000],\n",
            "        [34.0000, 33.1837,  0.0000,  1.0000,  0.0000],\n",
            "        [59.0000, 36.2780,  0.0000,  1.0000,  0.0000],\n",
            "        [58.0000, 22.6010,  0.0000,  1.0000,  0.0000],\n",
            "        [43.0000, 25.2491,  0.0000,  1.0000,  0.0000],\n",
            "        [26.0000, 31.9130,  2.0000,  1.0000,  1.0000],\n",
            "        [30.0000, 27.8293,  3.0000,  1.0000,  1.0000],\n",
            "        [26.0000, 22.9890,  2.0000,  1.0000,  0.0000],\n",
            "        [32.0000, 45.1341,  2.0000,  1.0000,  0.0000],\n",
            "        [20.0000, 27.1842,  1.0000,  1.0000,  1.0000],\n",
            "        [59.0000, 28.8090,  2.0000,  1.0000,  0.0000],\n",
            "        [28.0000, 16.7713,  0.0000,  0.0000,  0.0000],\n",
            "        [22.0000, 36.4914,  1.0000,  1.0000,  1.0000],\n",
            "        [38.0000, 26.4471,  1.0000,  0.0000,  0.0000],\n",
            "        [48.0000, 34.8327,  1.0000,  0.0000,  0.0000],\n",
            "        [41.0000, 27.9360,  1.0000,  1.0000,  0.0000],\n",
            "        [43.0000, 23.9590,  2.0000,  0.0000,  1.0000],\n",
            "        [62.0000, 31.1467,  0.0000,  1.0000,  0.0000],\n",
            "        [23.0000, 22.4846,  2.0000,  0.0000,  0.0000],\n",
            "        [48.0000, 31.3310,  2.0000,  0.0000,  0.0000],\n",
            "        [19.0000, 27.5480,  1.0000,  1.0000,  0.0000],\n",
            "        [52.0000, 24.5410,  2.0000,  0.0000,  1.0000],\n",
            "        [33.0000, 37.7330,  3.0000,  0.0000,  0.0000],\n",
            "        [18.0000, 40.9728,  0.0000,  0.0000,  1.0000],\n",
            "        [63.0000, 30.8460,  0.0000,  0.0000,  0.0000],\n",
            "        [31.0000, 28.9157,  0.0000,  1.0000,  1.0000],\n",
            "        [38.0000, 27.4219,  1.0000,  1.0000,  0.0000],\n",
            "        [20.0000, 29.7645,  0.0000,  1.0000,  1.0000],\n",
            "        [40.0000, 31.7917,  2.0000,  0.0000,  1.0000],\n",
            "        [56.0000, 27.7372,  0.0000,  0.0000,  0.0000],\n",
            "        [59.0000, 26.6750,  0.0000,  0.0000,  0.0000],\n",
            "        [36.0000, 26.7235,  3.0000,  1.0000,  0.0000],\n",
            "        [52.0000, 31.2388,  3.0000,  1.0000,  0.0000],\n",
            "        [63.0000, 38.6060,  3.0000,  1.0000,  0.0000],\n",
            "        [28.0000, 26.1706,  2.0000,  1.0000,  0.0000],\n",
            "        [20.0000, 26.0348,  1.0000,  0.0000,  1.0000],\n",
            "        [30.0000, 37.8785,  3.0000,  0.0000,  1.0000],\n",
            "        [61.0000, 22.9454,  0.0000,  1.0000,  0.0000],\n",
            "        [59.0000, 30.4095,  0.0000,  0.0000,  0.0000],\n",
            "        [39.0000, 25.4334,  1.0000,  1.0000,  0.0000],\n",
            "        [57.0000, 17.7850,  0.0000,  1.0000,  0.0000],\n",
            "        [50.0000, 25.4334,  2.0000,  0.0000,  0.0000],\n",
            "        [45.0000, 34.7406,  0.0000,  0.0000,  0.0000],\n",
            "        [18.0000, 32.8636,  0.0000,  0.0000,  0.0000],\n",
            "        [60.0000, 34.9249,  0.0000,  0.0000,  0.0000],\n",
            "        [50.0000, 33.1740,  2.0000,  1.0000,  1.0000],\n",
            "        [50.0000, 26.2628,  1.0000,  0.0000,  0.0000],\n",
            "        [26.0000, 16.6791,  2.0000,  0.0000,  1.0000],\n",
            "        [22.0000, 33.5426,  2.0000,  0.0000,  0.0000],\n",
            "        [49.0000, 20.6610,  1.0000,  0.0000,  0.0000],\n",
            "        [31.0000, 21.1024,  0.0000,  0.0000,  0.0000],\n",
            "        [64.0000, 30.3610,  2.0000,  0.0000,  1.0000],\n",
            "        [18.0000, 24.6962,  0.0000,  1.0000,  0.0000],\n",
            "        [46.0000, 21.6310,  0.0000,  1.0000,  0.0000],\n",
            "        [38.0000, 20.4864,  3.0000,  1.0000,  0.0000],\n",
            "        [26.0000, 29.9487,  2.0000,  1.0000,  0.0000],\n",
            "        [55.0000, 24.6040,  3.0000,  0.0000,  0.0000],\n",
            "        [61.0000, 32.8975,  0.0000,  1.0000,  0.0000],\n",
            "        [50.0000, 24.5410,  0.0000,  1.0000,  0.0000],\n",
            "        [38.0000, 30.0700,  1.0000,  1.0000,  0.0000],\n",
            "        [38.0000, 27.0000,  2.0000,  0.0000,  0.0000],\n",
            "        [42.0000, 36.0646,  2.0000,  1.0000,  0.0000],\n",
            "        [25.0000, 23.5710,  3.0000,  0.0000,  0.0000]])\n",
            "targets: tensor([[ 1848.7208],\n",
            "        [56279.2422],\n",
            "        [ 2606.9963],\n",
            "        [30099.4297],\n",
            "        [ 6683.2051],\n",
            "        [12665.4043],\n",
            "        [ 2421.0330],\n",
            "        [ 3091.9604],\n",
            "        [47732.9062],\n",
            "        [16600.9902],\n",
            "        [ 1385.8477],\n",
            "        [24094.2480],\n",
            "        [51178.0781],\n",
            "        [ 3728.7935],\n",
            "        [14757.9141],\n",
            "        [ 1993.4333],\n",
            "        [10455.2314],\n",
            "        [ 9313.1387],\n",
            "        [47637.6875],\n",
            "        [19689.2891],\n",
            "        [ 3869.3701],\n",
            "        [ 2215.3687],\n",
            "        [13793.2402],\n",
            "        [ 8993.5615],\n",
            "        [24738.9258],\n",
            "        [46152.2617],\n",
            "        [17366.7871],\n",
            "        [ 6607.1064],\n",
            "        [12476.0664],\n",
            "        [ 7546.0913],\n",
            "        [ 6378.1465],\n",
            "        [14437.2148],\n",
            "        [ 7211.3516],\n",
            "        [12925.2920],\n",
            "        [12017.5273],\n",
            "        [ 3554.5542],\n",
            "        [15225.2451],\n",
            "        [11863.9268],\n",
            "        [ 4365.1587],\n",
            "        [ 5634.0576],\n",
            "        [ 4951.6294],\n",
            "        [11749.0840],\n",
            "        [10499.5850],\n",
            "        [ 1419.4244],\n",
            "        [49679.0742],\n",
            "        [15244.2549],\n",
            "        [ 7120.5547],\n",
            "        [ 9426.7617],\n",
            "        [ 4872.8970],\n",
            "        [ 5449.2783],\n",
            "        [ 7625.5308],\n",
            "        [25740.2363],\n",
            "        [21312.1602],\n",
            "        [10470.4092],\n",
            "        [ 1541.1638],\n",
            "        [23356.3828],\n",
            "        [16873.9609],\n",
            "        [57407.7500],\n",
            "        [ 1516.2355],\n",
            "        [ 7727.8989],\n",
            "        [51923.7266],\n",
            "        [ 5409.3774],\n",
            "        [ 3905.5190],\n",
            "        [13391.0195],\n",
            "        [ 1871.8514],\n",
            "        [36677.5664],\n",
            "        [11254.8125],\n",
            "        [ 8837.4521],\n",
            "        [35286.2266],\n",
            "        [34741.6172],\n",
            "        [17800.5703],\n",
            "        [15407.5820],\n",
            "        [ 9445.3740],\n",
            "        [23135.0703],\n",
            "        [14911.9355],\n",
            "        [ 8238.7061],\n",
            "        [12330.8096],\n",
            "        [ 7810.7954],\n",
            "        [ 7463.3433],\n",
            "        [31891.2402],\n",
            "        [12048.3301],\n",
            "        [25892.8848],\n",
            "        [ 6242.1304],\n",
            "        [14045.1338],\n",
            "        [ 3534.7346],\n",
            "        [12883.7998],\n",
            "        [53452.9180],\n",
            "        [ 2810.8826],\n",
            "        [ 4800.9194],\n",
            "        [26592.3398],\n",
            "        [13841.5332],\n",
            "        [ 8341.5898],\n",
            "        [44023.9688],\n",
            "        [25310.1074],\n",
            "        [ 4250.8838],\n",
            "        [ 5717.3940],\n",
            "        [21423.6641],\n",
            "        [15769.5811],\n",
            "        [ 4553.8027],\n",
            "        [45341.5000],\n",
            "        [ 7997.1860],\n",
            "        [32198.5566],\n",
            "        [ 7664.3267],\n",
            "        [26694.5996],\n",
            "        [16537.1055],\n",
            "        [17599.8105],\n",
            "        [12252.7637],\n",
            "        [ 2247.8733],\n",
            "        [30094.2520],\n",
            "        [ 7286.3013],\n",
            "        [47327.0781],\n",
            "        [16934.7578],\n",
            "        [23607.4492],\n",
            "        [ 6691.0503],\n",
            "        [40840.4961],\n",
            "        [48804.0664],\n",
            "        [14222.9004],\n",
            "        [14925.2705],\n",
            "        [ 8231.0254],\n",
            "        [14015.7471],\n",
            "        [18507.4844],\n",
            "        [ 5410.8149],\n",
            "        [20844.0273],\n",
            "        [49937.5625],\n",
            "        [16018.1162],\n",
            "        [15399.0586],\n",
            "        [ 7470.7539],\n",
            "        [14072.5449],\n",
            "        [12802.6143],\n",
            "        [ 9432.8662],\n",
            "        [14008.8145],\n",
            "        [16139.1934],\n",
            "        [52285.3438],\n",
            "        [12329.4834],\n",
            "        [17635.8848],\n",
            "        [ 4789.4248],\n",
            "        [11202.2471],\n",
            "        [ 5043.5806],\n",
            "        [57695.0859],\n",
            "        [ 2083.7617],\n",
            "        [ 8719.4678],\n",
            "        [ 8116.0850],\n",
            "        [ 4730.3110],\n",
            "        [15917.7451],\n",
            "        [16035.5146],\n",
            "        [10300.0537],\n",
            "        [ 6695.6797],\n",
            "        [ 8716.7324],\n",
            "        [ 8737.6553],\n",
            "        [ 5357.8154]])\n"
          ],
          "name": "stdout"
        }
      ]
    },
    {
      "cell_type": "markdown",
      "metadata": {
        "id": "XmGidHzo_nYf",
        "colab_type": "text"
      },
      "source": [
        "Let's save our work by committing to Jovian."
      ]
    },
    {
      "cell_type": "code",
      "metadata": {
        "id": "3luWtNsj_nYg",
        "colab_type": "code",
        "colab": {}
      },
      "source": [
        "jovian.commit(project=project_name, environment=None)"
      ],
      "execution_count": 0,
      "outputs": []
    },
    {
      "cell_type": "markdown",
      "metadata": {
        "id": "lK3iSZMg_nYi",
        "colab_type": "text"
      },
      "source": [
        "## Step 3: Create a Linear Regression Model\n",
        "\n",
        "Our model itself is a fairly straightforward linear regression (we'll build more complex models in the next assignment). \n"
      ]
    },
    {
      "cell_type": "code",
      "metadata": {
        "id": "GNyJYYSN_nYi",
        "colab_type": "code",
        "colab": {},
        "outputId": "737d4cbe-693f-4267-f87e-2bc6db48d5af"
      },
      "source": [
        "input_size = len(input_cols)\n",
        "output_size = len(output_cols)\n",
        "input_size, output_size"
      ],
      "execution_count": 0,
      "outputs": [
        {
          "output_type": "execute_result",
          "data": {
            "text/plain": [
              "(5, 1)"
            ]
          },
          "metadata": {
            "tags": []
          },
          "execution_count": 61
        }
      ]
    },
    {
      "cell_type": "markdown",
      "metadata": {
        "id": "NcmifIeq_nYk",
        "colab_type": "text"
      },
      "source": [
        "**Q: Complete the class definition below by filling out the constructor (`__init__`), `forward`, `training_step` and `validation_step` methods.**\n",
        "\n",
        "Hint: Think carefully about picking a good loss fuction (it's not cross entropy). Maybe try 2-3 of them and see which one works best. See https://pytorch.org/docs/stable/nn.functional.html#loss-functions"
      ]
    },
    {
      "cell_type": "code",
      "metadata": {
        "id": "3hMorlfo_nYk",
        "colab_type": "code",
        "colab": {}
      },
      "source": [
        "class InsuranceModel(nn.Module):\n",
        "    def __init__(self):\n",
        "        super().__init__()\n",
        "        self.linear = nn.Linear(input_size,output_size)                  # fill this (hint: use input_size & output_size defined above)\n",
        "        \n",
        "    def forward(self, xb):\n",
        "        out = self.linear(xb)                          # fill this\n",
        "        return out\n",
        "    \n",
        "    def training_step(self, batch):\n",
        "        inputs, targets = batch \n",
        "        # Generate predictions\n",
        "        out = self(inputs)          \n",
        "        # Calcuate loss\n",
        "        loss = F.l1_loss(out,targets)                          # fill this\n",
        "        return loss\n",
        "    \n",
        "    def validation_step(self, batch):\n",
        "        inputs, targets = batch\n",
        "        # Generate predictions\n",
        "        out = self(inputs)\n",
        "        # Calculate loss\n",
        "        loss = F.l1_loss(out,targets)                           # fill this    \n",
        "        return {'val_loss': loss.detach()}\n",
        "        \n",
        "    def validation_epoch_end(self, outputs):\n",
        "        batch_losses = [x['val_loss'] for x in outputs]\n",
        "        epoch_loss = torch.stack(batch_losses).mean()   # Combine losses\n",
        "        return {'val_loss': epoch_loss.item()}\n",
        "    \n",
        "    def epoch_end(self, epoch, result, num_epochs):\n",
        "        # Print result every 20th epoch\n",
        "        if (epoch+1) % 20 == 0 or epoch == num_epochs-1:\n",
        "            print(\"Epoch [{}], val_loss: {:.4f}\".format(epoch+1, result['val_loss']))"
      ],
      "execution_count": 0,
      "outputs": []
    },
    {
      "cell_type": "markdown",
      "metadata": {
        "id": "a7FqZlgS_nYm",
        "colab_type": "text"
      },
      "source": [
        "Let us create a model using the `InsuranceModel` class. You may need to come back later and re-run the next cell to reinitialize the model, in case the loss becomes `nan` or `infinity`."
      ]
    },
    {
      "cell_type": "code",
      "metadata": {
        "id": "iwIpKK0C_nYm",
        "colab_type": "code",
        "colab": {}
      },
      "source": [
        "model = InsuranceModel()"
      ],
      "execution_count": 0,
      "outputs": []
    },
    {
      "cell_type": "markdown",
      "metadata": {
        "id": "KfLxtNXY_nYo",
        "colab_type": "text"
      },
      "source": [
        "Let's check out the weights and biases of the model using `model.parameters`."
      ]
    },
    {
      "cell_type": "code",
      "metadata": {
        "id": "PTtyOTG4_nYo",
        "colab_type": "code",
        "colab": {},
        "outputId": "d3078730-babb-494d-b306-4d3a45f65731"
      },
      "source": [
        "list(model.parameters())"
      ],
      "execution_count": 0,
      "outputs": [
        {
          "output_type": "execute_result",
          "data": {
            "text/plain": [
              "[Parameter containing:\n",
              " tensor([[ 0.1401, -0.3068, -0.1542, -0.0842, -0.2586]], requires_grad=True),\n",
              " Parameter containing:\n",
              " tensor([-0.1160], requires_grad=True)]"
            ]
          },
          "metadata": {
            "tags": []
          },
          "execution_count": 80
        }
      ]
    },
    {
      "cell_type": "markdown",
      "metadata": {
        "id": "ntXq9hNi_nYq",
        "colab_type": "text"
      },
      "source": [
        "One final commit before we train the model."
      ]
    },
    {
      "cell_type": "code",
      "metadata": {
        "id": "5mCVKwYC_nYq",
        "colab_type": "code",
        "colab": {}
      },
      "source": [
        "jovian.commit(project=project_name, environment=None)"
      ],
      "execution_count": 0,
      "outputs": []
    },
    {
      "cell_type": "markdown",
      "metadata": {
        "id": "nnQZJDJW_nYs",
        "colab_type": "text"
      },
      "source": [
        "## Step 4: Train the model to fit the data\n",
        "\n",
        "To train our model, we'll use the same `fit` function explained in the lecture. That's the benefit of defining a generic training loop - you can use it for any problem."
      ]
    },
    {
      "cell_type": "code",
      "metadata": {
        "id": "MKkuBZkb_nYt",
        "colab_type": "code",
        "colab": {}
      },
      "source": [
        "def evaluate(model, val_loader):\n",
        "    outputs = [model.validation_step(batch) for batch in val_loader]\n",
        "    return model.validation_epoch_end(outputs)\n",
        "\n",
        "def fit(epochs, lr, model, train_loader, val_loader, opt_func=torch.optim.SGD):\n",
        "    history = []\n",
        "    optimizer = opt_func(model.parameters(), lr)\n",
        "    for epoch in range(epochs):\n",
        "        # Training Phase \n",
        "        for batch in train_loader:\n",
        "            loss = model.training_step(batch)\n",
        "            loss.backward()\n",
        "            optimizer.step()\n",
        "            optimizer.zero_grad()\n",
        "        # Validation phase\n",
        "        result = evaluate(model, val_loader)\n",
        "        model.epoch_end(epoch, result, epochs)\n",
        "        history.append(result)\n",
        "    return history"
      ],
      "execution_count": 0,
      "outputs": []
    },
    {
      "cell_type": "markdown",
      "metadata": {
        "id": "bGhz4QEL_nYu",
        "colab_type": "text"
      },
      "source": [
        "**Q: Use the `evaluate` function to calculate the loss on the validation set before training.**"
      ]
    },
    {
      "cell_type": "code",
      "metadata": {
        "id": "5d_YUCNA_nYv",
        "colab_type": "code",
        "colab": {},
        "outputId": "d0dca8ad-636d-4a52-f202-94dc6687b035"
      },
      "source": [
        "result = evaluate(model,val_loader) # Use the the evaluate function\n",
        "print(result)\n"
      ],
      "execution_count": 0,
      "outputs": [
        {
          "output_type": "stream",
          "text": [
            "{'val_loss': 17483.6640625}\n"
          ],
          "name": "stdout"
        }
      ]
    },
    {
      "cell_type": "markdown",
      "metadata": {
        "id": "cVNJXIEE_nYx",
        "colab_type": "text"
      },
      "source": [
        "\n",
        "We are now ready to train the model. You may need to run the training loop many times, for different number of epochs and with different learning rates, to get a good result. Also, if your loss becomes too large (or `nan`), you may have to re-initialize the model by running the cell `model = InsuranceModel()`. Experiment with this for a while, and try to get to as low a loss as possible."
      ]
    },
    {
      "cell_type": "markdown",
      "metadata": {
        "id": "zdg8rVjy_nYx",
        "colab_type": "text"
      },
      "source": [
        "**Q: Train the model 4-5 times with different learning rates & for different number of epochs.**\n",
        "\n",
        "Hint: Vary learning rates by orders of 10 (e.g. `1e-2`, `1e-3`, `1e-4`, `1e-5`, `1e-6`) to figure out what works."
      ]
    },
    {
      "cell_type": "code",
      "metadata": {
        "id": "HSdBV_QJ_nYy",
        "colab_type": "code",
        "colab": {},
        "outputId": "94014cce-523b-488b-8aa2-2ccab8a51633"
      },
      "source": [
        "epochs = 100\n",
        "lr = 1e-2\n",
        "history1 = fit(epochs, lr, model, train_loader, val_loader)"
      ],
      "execution_count": 0,
      "outputs": [
        {
          "output_type": "stream",
          "text": [
            "Epoch [20], val_loss: 14182.2520\n",
            "Epoch [40], val_loss: 11918.7344\n",
            "Epoch [60], val_loss: 10750.2715\n",
            "Epoch [80], val_loss: 10275.2061\n",
            "Epoch [100], val_loss: 10118.3223\n"
          ],
          "name": "stdout"
        }
      ]
    },
    {
      "cell_type": "code",
      "metadata": {
        "id": "RsVcckuc_nYz",
        "colab_type": "code",
        "colab": {},
        "outputId": "22ec1408-3ab9-45b3-88a1-9b0e9ded2d37"
      },
      "source": [
        "epochs = 150\n",
        "lr = 1e-3\n",
        "history2 = fit(epochs, lr, model, train_loader, val_loader)"
      ],
      "execution_count": 0,
      "outputs": [
        {
          "output_type": "stream",
          "text": [
            "Epoch [20], val_loss: 10109.4297\n",
            "Epoch [40], val_loss: 10101.2109\n",
            "Epoch [60], val_loss: 10093.5781\n",
            "Epoch [80], val_loss: 10086.3135\n",
            "Epoch [100], val_loss: 10079.2910\n",
            "Epoch [120], val_loss: 10072.6055\n",
            "Epoch [140], val_loss: 10066.5273\n",
            "Epoch [150], val_loss: 10063.6992\n"
          ],
          "name": "stdout"
        }
      ]
    },
    {
      "cell_type": "code",
      "metadata": {
        "id": "3IHm864o_nY1",
        "colab_type": "code",
        "colab": {},
        "outputId": "696b7c62-062e-45f8-cf70-3de6a781d31c"
      },
      "source": [
        "epochs = 200\n",
        "lr = 1e-4\n",
        "history3 = fit(epochs, lr, model, train_loader, val_loader)"
      ],
      "execution_count": 0,
      "outputs": [
        {
          "output_type": "stream",
          "text": [
            "Epoch [20], val_loss: 10063.1484\n",
            "Epoch [40], val_loss: 10062.5938\n",
            "Epoch [60], val_loss: 10062.0410\n",
            "Epoch [80], val_loss: 10061.5146\n",
            "Epoch [100], val_loss: 10060.9932\n",
            "Epoch [120], val_loss: 10060.4707\n",
            "Epoch [140], val_loss: 10059.9512\n",
            "Epoch [160], val_loss: 10059.4346\n",
            "Epoch [180], val_loss: 10058.9355\n",
            "Epoch [200], val_loss: 10058.4355\n"
          ],
          "name": "stdout"
        }
      ]
    },
    {
      "cell_type": "code",
      "metadata": {
        "id": "rmOjv5Ny_nY3",
        "colab_type": "code",
        "colab": {},
        "outputId": "c7dbec9f-f566-4928-a44f-313379fa0513"
      },
      "source": [
        "epochs = 250\n",
        "lr = 1e-5\n",
        "history4 = fit(epochs, lr, model, train_loader, val_loader)"
      ],
      "execution_count": 0,
      "outputs": [
        {
          "output_type": "stream",
          "text": [
            "Epoch [20], val_loss: 10058.3867\n",
            "Epoch [40], val_loss: 10058.3379\n",
            "Epoch [60], val_loss: 10058.2871\n",
            "Epoch [80], val_loss: 10058.2373\n",
            "Epoch [100], val_loss: 10058.1875\n",
            "Epoch [120], val_loss: 10058.1387\n",
            "Epoch [140], val_loss: 10058.0898\n",
            "Epoch [160], val_loss: 10058.0391\n",
            "Epoch [180], val_loss: 10057.9902\n",
            "Epoch [200], val_loss: 10057.9375\n",
            "Epoch [220], val_loss: 10057.8906\n",
            "Epoch [240], val_loss: 10057.8398\n",
            "Epoch [250], val_loss: 10057.8164\n"
          ],
          "name": "stdout"
        }
      ]
    },
    {
      "cell_type": "code",
      "metadata": {
        "id": "WegXnLsi_nY5",
        "colab_type": "code",
        "colab": {},
        "outputId": "52b1e76b-4352-4bf5-99d7-ec0925ac2f1d"
      },
      "source": [
        "epochs = 300\n",
        "lr = 1e-2\n",
        "history5 = fit(epochs, lr, model, train_loader, val_loader)"
      ],
      "execution_count": 0,
      "outputs": [
        {
          "output_type": "stream",
          "text": [
            "Epoch [20], val_loss: 10015.3564\n",
            "Epoch [40], val_loss: 9989.7891\n",
            "Epoch [60], val_loss: 9971.0664\n",
            "Epoch [80], val_loss: 9954.8379\n",
            "Epoch [100], val_loss: 9939.1641\n",
            "Epoch [120], val_loss: 9923.0273\n",
            "Epoch [140], val_loss: 9907.1328\n",
            "Epoch [160], val_loss: 9892.1699\n",
            "Epoch [180], val_loss: 9877.5771\n",
            "Epoch [200], val_loss: 9863.3770\n",
            "Epoch [220], val_loss: 9850.2080\n",
            "Epoch [240], val_loss: 9837.6338\n",
            "Epoch [260], val_loss: 9824.9150\n",
            "Epoch [280], val_loss: 9812.0000\n",
            "Epoch [300], val_loss: 9799.2949\n"
          ],
          "name": "stdout"
        }
      ]
    },
    {
      "cell_type": "code",
      "metadata": {
        "id": "MfZ3vqcM_nY7",
        "colab_type": "code",
        "colab": {},
        "outputId": "56b7477b-0dfc-406a-f25a-02639f4bd665"
      },
      "source": [
        "epochs = 3000\n",
        "lr = .07\n",
        "history6 = fit(epochs, lr, model, train_loader, val_loader)"
      ],
      "execution_count": 0,
      "outputs": [
        {
          "output_type": "stream",
          "text": [
            "Epoch [20], val_loss: 9172.0928\n",
            "Epoch [40], val_loss: 9170.8145\n",
            "Epoch [60], val_loss: 9170.3203\n",
            "Epoch [80], val_loss: 9167.4160\n",
            "Epoch [100], val_loss: 9166.5820\n",
            "Epoch [120], val_loss: 9168.4707\n",
            "Epoch [140], val_loss: 9169.0742\n",
            "Epoch [160], val_loss: 9167.9648\n",
            "Epoch [180], val_loss: 9167.6816\n",
            "Epoch [200], val_loss: 9166.1465\n",
            "Epoch [220], val_loss: 9164.9980\n",
            "Epoch [240], val_loss: 9166.1807\n",
            "Epoch [260], val_loss: 9162.9668\n",
            "Epoch [280], val_loss: 9162.9121\n",
            "Epoch [300], val_loss: 9163.3516\n",
            "Epoch [320], val_loss: 9163.7891\n",
            "Epoch [340], val_loss: 9161.9590\n",
            "Epoch [360], val_loss: 9162.1123\n",
            "Epoch [380], val_loss: 9161.8867\n",
            "Epoch [400], val_loss: 9159.0938\n",
            "Epoch [420], val_loss: 9160.3516\n",
            "Epoch [440], val_loss: 9160.8418\n",
            "Epoch [460], val_loss: 9157.1426\n",
            "Epoch [480], val_loss: 9158.5068\n",
            "Epoch [500], val_loss: 9160.5752\n",
            "Epoch [520], val_loss: 9157.6133\n",
            "Epoch [540], val_loss: 9156.4219\n",
            "Epoch [560], val_loss: 9156.6289\n",
            "Epoch [580], val_loss: 9157.2490\n",
            "Epoch [600], val_loss: 9154.7832\n",
            "Epoch [620], val_loss: 9155.8906\n",
            "Epoch [640], val_loss: 9154.0879\n",
            "Epoch [660], val_loss: 9151.4873\n",
            "Epoch [680], val_loss: 9151.3779\n",
            "Epoch [700], val_loss: 9152.0596\n",
            "Epoch [720], val_loss: 9152.9297\n",
            "Epoch [740], val_loss: 9151.6982\n",
            "Epoch [760], val_loss: 9153.7480\n",
            "Epoch [780], val_loss: 9148.7480\n",
            "Epoch [800], val_loss: 9149.5918\n",
            "Epoch [820], val_loss: 9148.0312\n",
            "Epoch [840], val_loss: 9148.1592\n",
            "Epoch [860], val_loss: 9151.3281\n",
            "Epoch [880], val_loss: 9146.0547\n",
            "Epoch [900], val_loss: 9146.0781\n",
            "Epoch [920], val_loss: 9146.8125\n",
            "Epoch [940], val_loss: 9147.4434\n",
            "Epoch [960], val_loss: 9145.1328\n",
            "Epoch [980], val_loss: 9146.3203\n",
            "Epoch [1000], val_loss: 9145.2852\n",
            "Epoch [1020], val_loss: 9141.4717\n",
            "Epoch [1040], val_loss: 9141.7725\n",
            "Epoch [1060], val_loss: 9144.0947\n",
            "Epoch [1080], val_loss: 9141.5811\n",
            "Epoch [1100], val_loss: 9141.5029\n",
            "Epoch [1120], val_loss: 9140.9043\n",
            "Epoch [1140], val_loss: 9141.1953\n",
            "Epoch [1160], val_loss: 9141.5283\n",
            "Epoch [1180], val_loss: 9139.2920\n",
            "Epoch [1200], val_loss: 9142.1201\n",
            "Epoch [1220], val_loss: 9137.7812\n",
            "Epoch [1240], val_loss: 9137.4717\n",
            "Epoch [1260], val_loss: 9138.2598\n",
            "Epoch [1280], val_loss: 9136.6797\n",
            "Epoch [1300], val_loss: 9135.3525\n",
            "Epoch [1320], val_loss: 9137.4990\n",
            "Epoch [1340], val_loss: 9134.6270\n",
            "Epoch [1360], val_loss: 9133.9131\n",
            "Epoch [1380], val_loss: 9133.3262\n",
            "Epoch [1400], val_loss: 9132.4893\n",
            "Epoch [1420], val_loss: 9132.4922\n",
            "Epoch [1440], val_loss: 9131.5898\n",
            "Epoch [1460], val_loss: 9130.3438\n",
            "Epoch [1480], val_loss: 9131.8916\n",
            "Epoch [1500], val_loss: 9131.6631\n",
            "Epoch [1520], val_loss: 9133.1211\n",
            "Epoch [1540], val_loss: 9130.7148\n",
            "Epoch [1560], val_loss: 9131.0361\n",
            "Epoch [1580], val_loss: 9130.0967\n",
            "Epoch [1600], val_loss: 9129.7871\n",
            "Epoch [1620], val_loss: 9128.6914\n",
            "Epoch [1640], val_loss: 9128.3857\n",
            "Epoch [1660], val_loss: 9127.6553\n",
            "Epoch [1680], val_loss: 9125.5156\n",
            "Epoch [1700], val_loss: 9126.7051\n",
            "Epoch [1720], val_loss: 9125.2031\n",
            "Epoch [1740], val_loss: 9126.1406\n",
            "Epoch [1760], val_loss: 9124.4229\n",
            "Epoch [1780], val_loss: 9121.6768\n",
            "Epoch [1800], val_loss: 9123.7598\n",
            "Epoch [1820], val_loss: 9126.3516\n",
            "Epoch [1840], val_loss: 9120.4600\n",
            "Epoch [1860], val_loss: 9120.7764\n",
            "Epoch [1880], val_loss: 9122.3008\n",
            "Epoch [1900], val_loss: 9119.3721\n",
            "Epoch [1920], val_loss: 9120.0586\n",
            "Epoch [1940], val_loss: 9119.7773\n",
            "Epoch [1960], val_loss: 9120.3652\n",
            "Epoch [1980], val_loss: 9121.7441\n",
            "Epoch [2000], val_loss: 9118.2363\n",
            "Epoch [2020], val_loss: 9116.7773\n",
            "Epoch [2040], val_loss: 9117.0371\n",
            "Epoch [2060], val_loss: 9115.4365\n",
            "Epoch [2080], val_loss: 9115.7646\n",
            "Epoch [2100], val_loss: 9112.9287\n",
            "Epoch [2120], val_loss: 9115.2490\n",
            "Epoch [2140], val_loss: 9113.5400\n",
            "Epoch [2160], val_loss: 9116.2500\n",
            "Epoch [2180], val_loss: 9114.7969\n",
            "Epoch [2200], val_loss: 9109.9375\n",
            "Epoch [2220], val_loss: 9110.6289\n",
            "Epoch [2240], val_loss: 9109.8145\n",
            "Epoch [2260], val_loss: 9110.4062\n",
            "Epoch [2280], val_loss: 9111.7246\n",
            "Epoch [2300], val_loss: 9111.9746\n",
            "Epoch [2320], val_loss: 9110.1289\n",
            "Epoch [2340], val_loss: 9110.8613\n",
            "Epoch [2360], val_loss: 9109.3887\n",
            "Epoch [2380], val_loss: 9108.1846\n",
            "Epoch [2400], val_loss: 9108.8633\n",
            "Epoch [2420], val_loss: 9106.0293\n",
            "Epoch [2440], val_loss: 9106.1816\n",
            "Epoch [2460], val_loss: 9105.3799\n",
            "Epoch [2480], val_loss: 9105.8340\n",
            "Epoch [2500], val_loss: 9107.1875\n",
            "Epoch [2520], val_loss: 9103.8555\n",
            "Epoch [2540], val_loss: 9103.9395\n",
            "Epoch [2560], val_loss: 9102.9727\n",
            "Epoch [2580], val_loss: 9104.8262\n",
            "Epoch [2600], val_loss: 9101.9863\n",
            "Epoch [2620], val_loss: 9103.8525\n",
            "Epoch [2640], val_loss: 9102.5039\n",
            "Epoch [2660], val_loss: 9100.8564\n",
            "Epoch [2680], val_loss: 9099.6855\n",
            "Epoch [2700], val_loss: 9096.9824\n",
            "Epoch [2720], val_loss: 9099.9512\n",
            "Epoch [2740], val_loss: 9098.5137\n",
            "Epoch [2760], val_loss: 9099.9922\n",
            "Epoch [2780], val_loss: 9097.4414\n",
            "Epoch [2800], val_loss: 9096.7959\n",
            "Epoch [2820], val_loss: 9096.4980\n",
            "Epoch [2840], val_loss: 9096.2256\n",
            "Epoch [2860], val_loss: 9097.4336\n",
            "Epoch [2880], val_loss: 9094.8916\n",
            "Epoch [2900], val_loss: 9094.7852\n",
            "Epoch [2920], val_loss: 9094.6211\n",
            "Epoch [2940], val_loss: 9093.6768\n",
            "Epoch [2960], val_loss: 9093.0410\n",
            "Epoch [2980], val_loss: 9093.6133\n",
            "Epoch [3000], val_loss: 9092.0654\n"
          ],
          "name": "stdout"
        }
      ]
    },
    {
      "cell_type": "markdown",
      "metadata": {
        "id": "1W-9ULgj_nY-",
        "colab_type": "text"
      },
      "source": [
        "**Q: What is the final validation loss of your model?**"
      ]
    },
    {
      "cell_type": "code",
      "metadata": {
        "id": "1bJL47Cv_nY-",
        "colab_type": "code",
        "colab": {},
        "outputId": "304163c0-e7f6-4f85-c6f9-af0c2264039c"
      },
      "source": [
        "val_loss = history6[len(history6) - 1]\n",
        "val_loss"
      ],
      "execution_count": 0,
      "outputs": [
        {
          "output_type": "execute_result",
          "data": {
            "text/plain": [
              "{'val_loss': 9092.0654296875}"
            ]
          },
          "metadata": {
            "tags": []
          },
          "execution_count": 93
        }
      ]
    },
    {
      "cell_type": "markdown",
      "metadata": {
        "id": "3gF3IENE_nZC",
        "colab_type": "text"
      },
      "source": [
        "Let's log the final validation loss to Jovian and commit the notebook"
      ]
    },
    {
      "cell_type": "code",
      "metadata": {
        "id": "2CdXscbe_nZC",
        "colab_type": "code",
        "colab": {},
        "outputId": "7af0edac-5dd8-40ee-db89-550f830d37d7"
      },
      "source": [
        "jovian.log_metrics(val_loss=val_loss)"
      ],
      "execution_count": 0,
      "outputs": [
        {
          "output_type": "stream",
          "text": [
            "[jovian] Metrics logged.\u001b[0m\n"
          ],
          "name": "stdout"
        }
      ]
    },
    {
      "cell_type": "code",
      "metadata": {
        "id": "uZu7dEgF_nZF",
        "colab_type": "code",
        "colab": {},
        "outputId": "1bec9b72-c316-4523-f90c-267254ce9bb4"
      },
      "source": [
        "jovian.commit(project=project_name, environment=None)"
      ],
      "execution_count": 0,
      "outputs": [
        {
          "output_type": "display_data",
          "data": {
            "application/javascript": [
              "window.require && require([\"base/js/namespace\"],function(Jupyter){Jupyter.notebook.save_checkpoint()})"
            ],
            "text/plain": [
              "<IPython.core.display.Javascript object>"
            ]
          },
          "metadata": {
            "tags": []
          }
        },
        {
          "output_type": "stream",
          "text": [
            "[jovian] Attempting to save notebook..\u001b[0m\n",
            "[jovian] Updating notebook \"developer1110/02-insurance-linear-regression\" on https://jovian.ml/\u001b[0m\n",
            "[jovian] Uploading notebook..\u001b[0m\n",
            "[jovian] Attaching records (metrics, hyperparameters, dataset etc.)\u001b[0m\n",
            "[jovian] Committed successfully! https://jovian.ml/developer1110/02-insurance-linear-regression\u001b[0m\n"
          ],
          "name": "stdout"
        },
        {
          "output_type": "execute_result",
          "data": {
            "text/plain": [
              "'https://jovian.ml/developer1110/02-insurance-linear-regression'"
            ]
          },
          "metadata": {
            "tags": []
          },
          "execution_count": 74
        }
      ]
    },
    {
      "cell_type": "markdown",
      "metadata": {
        "id": "rxosd_1W_nZI",
        "colab_type": "text"
      },
      "source": [
        "Now scroll back up, re-initialize the model, and try different set of values for batch size, number of epochs, learning rate etc. Commit each experiment and use the \"Compare\" and \"View Diff\" options on Jovian to compare the different results."
      ]
    },
    {
      "cell_type": "markdown",
      "metadata": {
        "id": "eG1UlCdx_nZI",
        "colab_type": "text"
      },
      "source": [
        "## Step 5: Make predictions using the trained model\n",
        "\n",
        "**Q: Complete the following function definition to make predictions on a single input**"
      ]
    },
    {
      "cell_type": "code",
      "metadata": {
        "id": "TKw-067h_nZJ",
        "colab_type": "code",
        "colab": {}
      },
      "source": [
        "def predict_single(input, target, model):\n",
        "    inputs = input.unsqueeze(0)\n",
        "    predictions = model(inputs)               # fill this\n",
        "    prediction = predictions[0].detach()\n",
        "    print(\"Input:\", input)\n",
        "    print(\"Target:\", target)\n",
        "    print(\"Prediction:\", prediction)"
      ],
      "execution_count": 0,
      "outputs": []
    },
    {
      "cell_type": "code",
      "metadata": {
        "id": "xb4AqI9t_nZK",
        "colab_type": "code",
        "colab": {},
        "outputId": "eb783d41-20e3-45b8-e33a-7dd97e7655a4"
      },
      "source": [
        "input, target = val_ds[0]\n",
        "predict_single(input, target, model)"
      ],
      "execution_count": 0,
      "outputs": [
        {
          "output_type": "stream",
          "text": [
            "Input: tensor([19.0000, 27.8390,  0.0000,  1.0000,  0.0000])\n",
            "Target: tensor([1529.8019])\n",
            "Prediction: tensor([2398.4778])\n"
          ],
          "name": "stdout"
        }
      ]
    },
    {
      "cell_type": "code",
      "metadata": {
        "id": "q1X7_nfb_nZM",
        "colab_type": "code",
        "colab": {},
        "outputId": "1f9749bb-4c55-472d-9695-1a85cec1ee79"
      },
      "source": [
        "input, target = val_ds[10]\n",
        "predict_single(input, target, model)"
      ],
      "execution_count": 0,
      "outputs": [
        {
          "output_type": "stream",
          "text": [
            "Input: tensor([19.0000, 33.0770,  0.0000,  1.0000,  0.0000])\n",
            "Target: tensor([1538.9592])\n",
            "Prediction: tensor([1875.8047])\n"
          ],
          "name": "stdout"
        }
      ]
    },
    {
      "cell_type": "code",
      "metadata": {
        "id": "b2tdB-zj_nZN",
        "colab_type": "code",
        "colab": {},
        "outputId": "5fe2c1e1-9285-4f70-bc80-43e6c64e1288"
      },
      "source": [
        "input, target = val_ds[23]\n",
        "predict_single(input, target, model)"
      ],
      "execution_count": 0,
      "outputs": [
        {
          "output_type": "stream",
          "text": [
            "Input: tensor([19.0000, 27.0000,  0.0000,  1.0000,  0.0000])\n",
            "Target: tensor([1995.5951])\n",
            "Prediction: tensor([2482.2024])\n"
          ],
          "name": "stdout"
        }
      ]
    },
    {
      "cell_type": "markdown",
      "metadata": {
        "id": "hFFb5MZb_nZP",
        "colab_type": "text"
      },
      "source": [
        "Are you happy with your model's predictions? Try to improve them further."
      ]
    },
    {
      "cell_type": "markdown",
      "metadata": {
        "id": "NR5RStE5_nZQ",
        "colab_type": "text"
      },
      "source": [
        "## (Optional) Step 6: Try another dataset & blog about it\n",
        "\n",
        "While this last step is optional for the submission of your assignment, we highly recommend that you do it. Try to clean up & replicate this notebook (or [this one](https://jovian.ml/aakashns/housing-linear-minimal), or [this one](https://jovian.ml/aakashns/mnist-logistic-minimal) ) for a different linear regression or logistic regression problem. This will help solidify your understanding, and give you a chance to differentiate the generic patters in machine learning from problem-specific details.\n",
        "\n",
        "Here are some sources to find good datasets:\n",
        "\n",
        "- https://lionbridge.ai/datasets/10-open-datasets-for-linear-regression/\n",
        "- https://www.kaggle.com/rtatman/datasets-for-regression-analysis\n",
        "- https://archive.ics.uci.edu/ml/datasets.php?format=&task=reg&att=&area=&numAtt=&numIns=&type=&sort=nameUp&view=table\n",
        "- https://people.sc.fsu.edu/~jburkardt/datasets/regression/regression.html\n",
        "- https://archive.ics.uci.edu/ml/datasets/wine+quality\n",
        "- https://pytorch.org/docs/stable/torchvision/datasets.html\n",
        "\n",
        "We also recommend that you write a blog about your approach to the problem. Here is a suggested structure for your post (feel free to experiment with it):\n",
        "\n",
        "- Interesting title & subtitle\n",
        "- Overview of what the blog covers (which dataset, linear regression or logistic regression, intro to PyTorch)\n",
        "- Downloading & exploring the data\n",
        "- Preparing the data for training\n",
        "- Creating a model using PyTorch\n",
        "- Training the model to fit the data\n",
        "- Your thoughts on how to experiment with different hyperparmeters to reduce loss\n",
        "- Making predictions using the model\n",
        "\n",
        "As with the previous assignment, you can [embed Juptyer notebook cells & outputs from Jovian](https://medium.com/jovianml/share-and-embed-jupyter-notebooks-online-with-jovian-ml-df709a03064e) into your blog. \n",
        "\n",
        "Don't forget to share your work on the forum: https://jovian.ml/forum/t/share-your-work-here-assignment-2/4931"
      ]
    },
    {
      "cell_type": "code",
      "metadata": {
        "id": "YzacKK3a_nZQ",
        "colab_type": "code",
        "colab": {},
        "outputId": "bbb48238-e543-4936-c227-4e842d9e5a86"
      },
      "source": [
        "jovian.commit(project=project_name, environment=None)\n",
        "jovian.commit(project=project_name, environment=None) # try again, kaggle fails sometimes"
      ],
      "execution_count": 0,
      "outputs": [
        {
          "output_type": "display_data",
          "data": {
            "application/javascript": [
              "window.require && require([\"base/js/namespace\"],function(Jupyter){Jupyter.notebook.save_checkpoint()})"
            ],
            "text/plain": [
              "<IPython.core.display.Javascript object>"
            ]
          },
          "metadata": {
            "tags": []
          }
        },
        {
          "output_type": "stream",
          "text": [
            "[jovian] Attempting to save notebook..\u001b[0m\n",
            "[jovian] Updating notebook \"developer1110/02-insurance-linear-regression\" on https://jovian.ml/\u001b[0m\n",
            "[jovian] Uploading notebook..\u001b[0m\n",
            "[jovian] Attaching records (metrics, hyperparameters, dataset etc.)\u001b[0m\n",
            "[jovian] Committed successfully! https://jovian.ml/developer1110/02-insurance-linear-regression\u001b[0m\n"
          ],
          "name": "stdout"
        },
        {
          "output_type": "display_data",
          "data": {
            "application/javascript": [
              "window.require && require([\"base/js/namespace\"],function(Jupyter){Jupyter.notebook.save_checkpoint()})"
            ],
            "text/plain": [
              "<IPython.core.display.Javascript object>"
            ]
          },
          "metadata": {
            "tags": []
          }
        },
        {
          "output_type": "stream",
          "text": [
            "[jovian] Attempting to save notebook..\u001b[0m\n"
          ],
          "name": "stdout"
        }
      ]
    },
    {
      "cell_type": "code",
      "metadata": {
        "id": "hVkbbGO2_nZT",
        "colab_type": "code",
        "colab": {}
      },
      "source": [
        ""
      ],
      "execution_count": 0,
      "outputs": []
    }
  ]
}